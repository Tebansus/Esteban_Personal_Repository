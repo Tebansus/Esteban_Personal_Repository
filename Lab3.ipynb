{
  "nbformat": 4,
  "nbformat_minor": 0,
  "metadata": {
    "colab": {
      "provenance": [],
      "gpuType": "T4"
    },
    "kernelspec": {
      "name": "python3",
      "display_name": "Python 3"
    },
    "language_info": {
      "name": "python"
    },
    "accelerator": "GPU"
  },
  "cells": [
    {
      "cell_type": "markdown",
      "source": [
        "# Lab 3: Obtención y Análisis de un Conjunto de Datos\n"
      ],
      "metadata": {
        "id": "L5d6bBbHKRUy"
      }
    },
    {
      "cell_type": "markdown",
      "source": [
        "## Students\n",
        "\n",
        "Esteban Alfaro C4A072\n",
        "\n",
        "Cesar Coronado C4A073\n",
        "\n",
        "David Martinez B34019"
      ],
      "metadata": {
        "id": "zD5OpenUKYiT"
      }
    },
    {
      "cell_type": "markdown",
      "source": [
        "## DataSet Acquisition"
      ],
      "metadata": {
        "id": "fh_lkMLmKdyh"
      }
    },
    {
      "cell_type": "markdown",
      "source": [
        "First, we started by selecting a Data Set. For this, we selected one that was meant to bse used with Regression and Clasification models, that is, low complexity models, based on the Kaggle search parameters. We chose a dataset that follows a similar structure to the one used in HomeWork 2. In Homework 2, we used Airbnb data. Here, we use apartment rental data for continental US listings. This facilitates cleaning tasks by being able to repurpose some of the concepts used previously. The data used is the following:\n",
        "\n",
        "https://www.kaggle.com/datasets/shashanks1202/apartment-rent-data/data\n",
        "\n",
        "The data already has the primary slots, like price and square footage, clean and ready to be analyzed, so the remaining tasks focus on smaller aspects of the data cleaning process. The descriptioned mentioned some non linear elements, which will be further analyzed in this collab.\n"
      ],
      "metadata": {
        "id": "sfyWlx_RKhMO"
      }
    },
    {
      "cell_type": "markdown",
      "source": [
        "## Data Cleaning"
      ],
      "metadata": {
        "id": "zFfVOzCFp3CR"
      }
    },
    {
      "cell_type": "markdown",
      "source": [
        "First we start by importing the libraries needed."
      ],
      "metadata": {
        "id": "SZJNQDULp5tn"
      }
    },
    {
      "cell_type": "code",
      "source": [
        "import pandas as pd\n",
        "import numpy as np\n",
        "import torch\n",
        "import torch.nn as nn\n",
        "import torch.optim as optim\n",
        "from sklearn.model_selection import train_test_split\n",
        "from sklearn.preprocessing import StandardScaler, PolynomialFeatures, MinMaxScaler\n",
        "from sklearn.linear_model import Ridge, Lasso\n",
        "from sklearn.metrics import mean_absolute_error, mean_squared_error\n",
        "import matplotlib.pyplot as plt"
      ],
      "metadata": {
        "id": "a6ZFZwGgqWgF"
      },
      "execution_count": null,
      "outputs": []
    },
    {
      "cell_type": "markdown",
      "source": [
        "Now we import the file and understand its makeup with info, describe and head."
      ],
      "metadata": {
        "id": "ar5ewxByqhQJ"
      }
    },
    {
      "cell_type": "code",
      "source": [
        "# Read the CSV file\n",
        "df = pd.read_csv('apartments_for_rent_classified_100K.csv', encoding='cp1252', delimiter=';', low_memory=False)\n",
        "\n",
        "# Print NANs per column\n",
        "print(\"NANs per column:\")\n",
        "print(df.isna().sum())\n",
        "print(\"\\n\")\n",
        "\n",
        "# Print 30 value head\n",
        "print(\"First 30 rows:\")\n",
        "print(df.head(30))\n",
        "print(\"\\n\")\n",
        "\n",
        "# Print info\n",
        "print(\"DataFrame Info:\")\n",
        "print(df.info())\n",
        "print(\"\\n\")\n",
        "\n",
        "# Print describe\n",
        "print(\"DataFrame Description:\")\n",
        "print(df.describe())\n"
      ],
      "metadata": {
        "colab": {
          "base_uri": "https://localhost:8080/"
        },
        "id": "DwNcpnP8qws0",
        "outputId": "99251485-9289-4e3e-fe27-0569980b0d8c"
      },
      "execution_count": null,
      "outputs": [
        {
          "output_type": "stream",
          "name": "stdout",
          "text": [
            "NANs per column:\n",
            "id                   0\n",
            "category             0\n",
            "title                0\n",
            "body                 0\n",
            "amenities        16044\n",
            "bathrooms           63\n",
            "bedrooms           124\n",
            "currency             0\n",
            "fee                  0\n",
            "has_photo            0\n",
            "pets_allowed     60424\n",
            "price                1\n",
            "price_display        1\n",
            "price_type           0\n",
            "square_feet          0\n",
            "address          91549\n",
            "cityname           302\n",
            "state              302\n",
            "latitude            25\n",
            "longitude           25\n",
            "source               0\n",
            "time                 0\n",
            "dtype: int64\n",
            "\n",
            "\n",
            "First 30 rows:\n",
            "            id                category  \\\n",
            "0   5668640009  housing/rent/apartment   \n",
            "1   5668639818  housing/rent/apartment   \n",
            "2   5668639686  housing/rent/apartment   \n",
            "3   5668639659  housing/rent/apartment   \n",
            "4   5668639374  housing/rent/apartment   \n",
            "5   5668639368  housing/rent/apartment   \n",
            "6   5668638765  housing/rent/apartment   \n",
            "7   5668638578  housing/rent/apartment   \n",
            "8   5668638476  housing/rent/apartment   \n",
            "9   5668638122  housing/rent/apartment   \n",
            "10  5668638015  housing/rent/apartment   \n",
            "11  5668637998  housing/rent/apartment   \n",
            "12  5668637809  housing/rent/apartment   \n",
            "13  5668637541  housing/rent/apartment   \n",
            "14  5668637528  housing/rent/apartment   \n",
            "15  5668636381  housing/rent/apartment   \n",
            "16  5668636291  housing/rent/apartment   \n",
            "17  5668635018  housing/rent/apartment   \n",
            "18  5668634255  housing/rent/apartment   \n",
            "19  5668633909  housing/rent/apartment   \n",
            "20  5668632975  housing/rent/apartment   \n",
            "21  5668632369  housing/rent/apartment   \n",
            "22  5668632002  housing/rent/apartment   \n",
            "23  5668631854  housing/rent/apartment   \n",
            "24  5668631790  housing/rent/apartment   \n",
            "25  5668631784  housing/rent/apartment   \n",
            "26  5668631302  housing/rent/apartment   \n",
            "27  5668630952  housing/rent/apartment   \n",
            "28  5668630836  housing/rent/apartment   \n",
            "29  5668630485  housing/rent/apartment   \n",
            "\n",
            "                                     title  \\\n",
            "0               One BR 507 & 509 Esplanade   \n",
            "1              Three BR 146 Lochview Drive   \n",
            "2          Three BR 3101 Morningside Drive   \n",
            "3                    Two BR 209 Aegean Way   \n",
            "4                 One BR 4805 Marquette NE   \n",
            "5                    Two BR 7801 Marble NE   \n",
            "6     Two BR 5 Salt Marsh Quay Apartment H   \n",
            "7                Two BR 11280 W. 20th Ave.   \n",
            "8                 Two BR 1427 Lewis Street   \n",
            "9               Two BR 10201 Remmet Avenue   \n",
            "10          Three BR 315 Wittenridge Court   \n",
            "11      Two BR 39 Intrepid Circle Unit 301   \n",
            "12     Two BR 2537 North Capitol Street NE   \n",
            "13             Four BR 6347 E. Ironwood Dr   \n",
            "14                  Three BR 1502 Delaware   \n",
            "15            Two BR 10012 NE 122nd St P-D   \n",
            "16         One BR 2447 Harry Wurzbach Road   \n",
            "17                 One BR 712 Villa Avenue   \n",
            "18        Three BR Ivy Place 1201 Ivy Road   \n",
            "19  Studio apartment 7428 N Charleston Ave   \n",
            "20        Studio apartment 610 NW 17th Ave   \n",
            "21                 One BR 7011 W PARMER LN   \n",
            "22                  One BR 2800 SUNRISE RD   \n",
            "23               One BR 12330 METRIC BLVD.   \n",
            "24                One BR 8021 FM 620 NORTH   \n",
            "25             One BR 11500 JOLLYVILLE RD.   \n",
            "26                     One BR 809 S. LAMAR   \n",
            "27           One BR 800 Wolf Ranch Parkway   \n",
            "28              Three BR 3 Mill Ridge Farm   \n",
            "29           One BR 1912 E. WILLIAM CANNON   \n",
            "\n",
            "                                                 body  \\\n",
            "0   This unit is located at 507 & 509 Esplanade, R...   \n",
            "1   This unit is located at 146 Lochview Drive, Ne...   \n",
            "2   This unit is located at 3101 Morningside Drive...   \n",
            "3   This unit is located at 209 Aegean Way, Vacavi...   \n",
            "4   This unit is located at 4805 Marquette NE, Alb...   \n",
            "5   This unit is located at 7801 Marble NE, Albuqu...   \n",
            "6   This unit is located at five Salt Marsh Quay A...   \n",
            "7   This unit is located at 11280 W. 20th Ave., La...   \n",
            "8   This unit is located at 1427 Lewis Street, Cha...   \n",
            "9   This unit is located at 10201 Remmet Avenue, C...   \n",
            "10  This unit is located at 315 Wittenridge Court,...   \n",
            "11  This unit is located at 39 Intrepid Circle Uni...   \n",
            "12  This unit is located at 2537 North Capitol Str...   \n",
            "13  This unit is located at 6347 E. Ironwood Dr, S...   \n",
            "14  This unit is located at 1502 Delaware, Ames, 5...   \n",
            "15  This unit is located at 10012 NE 122nd St P-D,...   \n",
            "16  This unit is located at 2447 Harry Wurzbach Ro...   \n",
            "17  This unit is located at 712 Villa Avenue, Vill...   \n",
            "18  This unit is located at Ivy Place 1201 Ivy Roa...   \n",
            "19  This unit is located at 7428 N Charleston Ave,...   \n",
            "20  This unit is located at 610 NW 17th Ave, Portl...   \n",
            "21  This unit is located at 7011 W PARMER LN, Aust...   \n",
            "22  This unit is located at 2800 SUNRISE RD, Round...   \n",
            "23  This unit is located at 12330 METRIC BLVD., Au...   \n",
            "24  This unit is located at 8021 FM 620 NORTH, Aus...   \n",
            "25  This unit is located at 11500 JOLLYVILLE RD., ...   \n",
            "26  This unit is located at 809 S. LAMAR, Austin, ...   \n",
            "27  This unit is located at 800 Wolf Ranch Parkway...   \n",
            "28  This unit is located at three Mill Ridge Farm,...   \n",
            "29  This unit is located at 1912 E. WILLIAM CANNON...   \n",
            "\n",
            "                                         amenities  bathrooms  bedrooms  \\\n",
            "0                                              NaN        1.0       1.0   \n",
            "1                                              NaN        1.5       3.0   \n",
            "2                                              NaN        2.0       3.0   \n",
            "3                                              NaN        1.0       2.0   \n",
            "4                                              NaN        1.0       1.0   \n",
            "5                                              NaN        1.5       2.0   \n",
            "6                                              NaN        2.0       2.0   \n",
            "7                                              NaN        2.0       2.0   \n",
            "8                                              NaN        1.0       2.0   \n",
            "9                                              NaN        2.0       2.0   \n",
            "10                                             NaN        2.5       3.0   \n",
            "11                                             NaN        3.0       2.0   \n",
            "12                                             NaN        2.0       2.0   \n",
            "13                                             NaN        3.5       4.0   \n",
            "14                                             NaN        1.0       3.0   \n",
            "15                                             NaN        1.5       2.0   \n",
            "16                                             NaN        1.0       1.0   \n",
            "17                                             NaN        1.0       1.0   \n",
            "18                                             NaN        3.0       3.0   \n",
            "19                                             NaN        1.0       2.0   \n",
            "20                                             NaN        1.0       0.0   \n",
            "21  Fireplace,Gym,Parking,Pool,Storage,Wood Floors        1.0       1.0   \n",
            "22                                      Gated,Pool        1.0       1.0   \n",
            "23                         Dishwasher,Parking,Pool        1.0       1.0   \n",
            "24                         Dishwasher,Parking,Pool        1.0       1.0   \n",
            "25                                        Gym,Pool        1.0       1.0   \n",
            "26                        Clubhouse,Fireplace,Pool        1.0       1.0   \n",
            "27                         Dishwasher,Parking,Pool        1.0       1.0   \n",
            "28                                             NaN        2.5       3.0   \n",
            "29                         Dishwasher,Parking,Pool        1.0       1.0   \n",
            "\n",
            "   currency fee  has_photo  ... price_display  price_type square_feet  \\\n",
            "0       USD  No  Thumbnail  ...        $2,195     Monthly         542   \n",
            "1       USD  No  Thumbnail  ...        $1,250     Monthly        1500   \n",
            "2       USD  No  Thumbnail  ...        $1,395     Monthly        1650   \n",
            "3       USD  No  Thumbnail  ...        $1,600     Monthly         820   \n",
            "4       USD  No  Thumbnail  ...          $975     Monthly         624   \n",
            "5       USD  No  Thumbnail  ...        $1,250     Monthly         965   \n",
            "6       USD  No  Thumbnail  ...        $1,600     Monthly        1120   \n",
            "7       USD  No  Thumbnail  ...        $1,300     Monthly         947   \n",
            "8       USD  No  Thumbnail  ...          $795     Monthly         600   \n",
            "9       USD  No  Thumbnail  ...        $2,150     Monthly        1005   \n",
            "10      USD  No  Thumbnail  ...        $1,795     Monthly        1522   \n",
            "11      USD  No  Thumbnail  ...        $3,195     Monthly        3077   \n",
            "12      USD  No  Thumbnail  ...        $2,395     Monthly         896   \n",
            "13      USD  No  Thumbnail  ...        $7,800     Monthly        4650   \n",
            "14      USD  No  Thumbnail  ...          $720     Monthly         800   \n",
            "15      USD  No  Thumbnail  ...        $2,000     Monthly         872   \n",
            "16      USD  No  Thumbnail  ...          $729     Monthly         800   \n",
            "17      USD  No  Thumbnail  ...        $1,045     Monthly         700   \n",
            "18      USD  No  Thumbnail  ...        $1,800     Monthly        1500   \n",
            "19      USD  No  Thumbnail  ...        $1,250     Monthly         435   \n",
            "20      USD  No  Thumbnail  ...        $1,099     Monthly         290   \n",
            "21      USD  No  Thumbnail  ...        $1,060     Monthly         650   \n",
            "22      USD  No  Thumbnail  ...        $1,003     Monthly         797   \n",
            "23      USD  No  Thumbnail  ...          $837     Monthly         444   \n",
            "24      USD  No  Thumbnail  ...        $1,020     Monthly         692   \n",
            "25      USD  No  Thumbnail  ...          $985     Monthly         693   \n",
            "26      USD  No  Thumbnail  ...        $1,581     Monthly         703   \n",
            "27      USD  No  Thumbnail  ...        $1,090     Monthly         665   \n",
            "28      USD  No  Thumbnail  ...        $3,250     Monthly        1525   \n",
            "29      USD  No  Thumbnail  ...          $962     Monthly         532   \n",
            "\n",
            "                          address       cityname state latitude longitude  \\\n",
            "0              507  509 Esplanade  Redondo Beach    CA  33.8520 -118.3759   \n",
            "1                 146 Lochview Dr   Newport News    VA  37.0867  -76.4941   \n",
            "2             3101 Morningside Dr        Raleigh    NC  35.8230  -78.6438   \n",
            "3                  209 Aegean Way      Vacaville    CA  38.3622 -121.9712   \n",
            "4               4805 Marquette NE    Albuquerque    NM  35.1038 -106.6110   \n",
            "5                  7801 Marble NE    Albuquerque    NM  35.1038 -106.6110   \n",
            "6   5 Salt Marsh Quay Apartment H        Hampton    VA  37.0451  -76.3664   \n",
            "7             11280 W 20th Avenue       Lakewood    CO  39.6894 -105.1119   \n",
            "8                   1427 Lewis St     Charleston    WV  38.3454  -81.6219   \n",
            "9                10201 Remmet Ave     Chatsworth    CA  34.2551 -118.5976   \n",
            "10             315 Wittenridge CT     Alpharetta    GA  34.0718  -84.2525   \n",
            "11       39 Intrepid Cir Unit 301     Marblehead    MA  42.4982  -70.8647   \n",
            "12       2537 North Capitol St NE     Washington    DC  38.9118  -77.0132   \n",
            "13          6347 E Ironwood Drive     Scottsdale    AZ  33.5783 -111.8902   \n",
            "14                  1502 Delaware           Ames    IA  42.0259  -93.6516   \n",
            "15          10012 NE 122nd St P-D       Kirkland    WA  47.7046 -122.1989   \n",
            "16         2447 Harry Wurzbach Rd    San Antonio    TX  29.4624  -98.5253   \n",
            "17                  712 Villa Ave     Villa Park    IL  41.8787  -87.9798   \n",
            "18          Ivy Place 1201 Ivy Rd         Oxford    MS  34.3504  -89.5190   \n",
            "19       7428 N Charleston Avenue       Portland    OR  45.5091 -122.6449   \n",
            "20             610 NW 17th Avenue       Portland    OR  45.5091 -122.6449   \n",
            "21             7011 W Parmer Lane         Austin    TX  30.3054  -97.7497   \n",
            "22              2800 Sunrise Road     Round Rock    TX  30.5118  -97.6873   \n",
            "23         12330 Metric Boulevard         Austin    TX  30.3054  -97.7497   \n",
            "24              8021 Fm 620 North         Austin    TX  30.3054  -97.7497   \n",
            "25          11500 Jollyville Road         Austin    TX  30.3054  -97.7497   \n",
            "26                    809 S Lamar         Austin    TX  30.3054  -97.7497   \n",
            "27         800 Wolf Ranch Parkway     Georgetown    TX  30.6505  -97.6809   \n",
            "28              3 Mill Ridge Farm   Ladera Ranch    CA  33.5585 -117.6695   \n",
            "29          1912 E William Cannon         Austin    TX  30.3054  -97.7497   \n",
            "\n",
            "       source        time  \n",
            "0   RentLingo  1577360355  \n",
            "1   RentLingo  1577360340  \n",
            "2   RentLingo  1577360332  \n",
            "3   RentLingo  1577360330  \n",
            "4   RentLingo  1577360308  \n",
            "5   RentLingo  1577360308  \n",
            "6   RentLingo  1577360261  \n",
            "7   RentLingo  1577360247  \n",
            "8   RentLingo  1577360239  \n",
            "9   RentLingo  1577360204  \n",
            "10  RentLingo  1577360196  \n",
            "11  RentLingo  1577360194  \n",
            "12  RentLingo  1577360182  \n",
            "13  RentLingo  1577360165  \n",
            "14  RentLingo  1577360164  \n",
            "15  RentLingo  1577360105  \n",
            "16  RentLingo  1577360099  \n",
            "17  RentLingo  1577360021  \n",
            "18  RentLingo  1577359971  \n",
            "19  RentLingo  1577359943  \n",
            "20  RentLingo  1577359880  \n",
            "21  RentLingo  1577359827  \n",
            "22  RentLingo  1577359796  \n",
            "23  RentLingo  1577359784  \n",
            "24  RentLingo  1577359778  \n",
            "25  RentLingo  1577359777  \n",
            "26  RentLingo  1577359749  \n",
            "27  RentLingo  1577359728  \n",
            "28  RentLingo  1577359722  \n",
            "29  RentLingo  1577359700  \n",
            "\n",
            "[30 rows x 22 columns]\n",
            "\n",
            "\n",
            "DataFrame Info:\n",
            "<class 'pandas.core.frame.DataFrame'>\n",
            "RangeIndex: 99492 entries, 0 to 99491\n",
            "Data columns (total 22 columns):\n",
            " #   Column         Non-Null Count  Dtype  \n",
            "---  ------         --------------  -----  \n",
            " 0   id             99492 non-null  int64  \n",
            " 1   category       99492 non-null  object \n",
            " 2   title          99492 non-null  object \n",
            " 3   body           99492 non-null  object \n",
            " 4   amenities      83448 non-null  object \n",
            " 5   bathrooms      99429 non-null  float64\n",
            " 6   bedrooms       99368 non-null  float64\n",
            " 7   currency       99492 non-null  object \n",
            " 8   fee            99492 non-null  object \n",
            " 9   has_photo      99492 non-null  object \n",
            " 10  pets_allowed   39068 non-null  object \n",
            " 11  price          99491 non-null  float64\n",
            " 12  price_display  99491 non-null  object \n",
            " 13  price_type     99492 non-null  object \n",
            " 14  square_feet    99492 non-null  int64  \n",
            " 15  address        7943 non-null   object \n",
            " 16  cityname       99190 non-null  object \n",
            " 17  state          99190 non-null  object \n",
            " 18  latitude       99467 non-null  float64\n",
            " 19  longitude      99467 non-null  float64\n",
            " 20  source         99492 non-null  object \n",
            " 21  time           99492 non-null  int64  \n",
            "dtypes: float64(5), int64(3), object(14)\n",
            "memory usage: 16.7+ MB\n",
            "None\n",
            "\n",
            "\n",
            "DataFrame Description:\n",
            "                 id     bathrooms      bedrooms         price   square_feet  \\\n",
            "count  9.949200e+04  99429.000000  99368.000000  99491.000000  99492.000000   \n",
            "mean   5.358321e+09      1.445323      1.728212   1527.057281    956.430688   \n",
            "std    1.847404e+08      0.547021      0.749200    904.245882    417.571522   \n",
            "min    5.121046e+09      1.000000      0.000000    100.000000    101.000000   \n",
            "25%    5.197950e+09      1.000000      1.000000   1013.000000    729.000000   \n",
            "50%    5.508673e+09      1.000000      2.000000   1350.000000    900.000000   \n",
            "75%    5.509007e+09      2.000000      2.000000   1795.000000   1115.000000   \n",
            "max    5.669439e+09      9.000000      9.000000  52500.000000  50000.000000   \n",
            "\n",
            "           latitude     longitude          time  \n",
            "count  99467.000000  99467.000000  9.949200e+04  \n",
            "mean      36.947988    -91.568656  1.559665e+09  \n",
            "std        4.599461     15.817168  1.105077e+07  \n",
            "min       19.573800   -159.369800  1.544174e+09  \n",
            "25%       33.746500   -104.791900  1.550832e+09  \n",
            "50%       37.228200    -84.562300  1.568745e+09  \n",
            "75%       39.953000    -77.608200  1.568767e+09  \n",
            "max       64.833200    -68.778800  1.577391e+09  \n"
          ]
        }
      ]
    },
    {
      "cell_type": "markdown",
      "source": [
        "AS can be seen from the NANs and the had, the 3 columns with the most NAN are amenities, pets allowed and address. Amenities and address are very specific to each apartment listing, and thus can't be filled in with predictions. AS such,  we remove these columns"
      ],
      "metadata": {
        "id": "ihXlMwVsr3Tr"
      }
    },
    {
      "cell_type": "code",
      "source": [
        "# Drop the columns and verify NANs once again\n",
        "columns_to_drop = ['amenities', 'pets_allowed', 'address']\n",
        "df = df.drop(columns=columns_to_drop)\n",
        "\n",
        "print(\"NANs per column:\")\n",
        "print(df.isna().sum())\n",
        "print(\"\\n\")"
      ],
      "metadata": {
        "colab": {
          "base_uri": "https://localhost:8080/"
        },
        "id": "-24KSBwxsx_t",
        "outputId": "1dbfe1c4-2d77-49ab-8c4c-0f35930bdd01"
      },
      "execution_count": null,
      "outputs": [
        {
          "output_type": "stream",
          "name": "stdout",
          "text": [
            "NANs per column:\n",
            "id                 0\n",
            "category           0\n",
            "title              0\n",
            "body               0\n",
            "bathrooms         63\n",
            "bedrooms         124\n",
            "currency           0\n",
            "fee                0\n",
            "has_photo          0\n",
            "price              1\n",
            "price_display      1\n",
            "price_type         0\n",
            "square_feet        0\n",
            "cityname         302\n",
            "state            302\n",
            "latitude          25\n",
            "longitude         25\n",
            "source             0\n",
            "time               0\n",
            "dtype: int64\n",
            "\n",
            "\n"
          ]
        }
      ]
    },
    {
      "cell_type": "markdown",
      "source": [
        "As can be seen, the remaining characteristicas are less than 1%, so the remaining cleaning is fairly lax. First, we start by inferring bathrooms and bedrroms based on the square footage, because every row has square footage."
      ],
      "metadata": {
        "id": "9fPpdf4ntfVN"
      }
    },
    {
      "cell_type": "code",
      "source": [
        "# Round Bathrooms to nearest 0.5\n",
        "def round_bathrooms(x):\n",
        "    return np.ceil(x * 2) / 2\n",
        "\n",
        "# Determine which are NANs\n",
        "bathrooms_nan = df['bathrooms'].isna()\n",
        "bedrooms_nan = df['bedrooms'].isna()\n",
        "\n",
        "# Get the total amount of nans\n",
        "bathrooms_nan_count = bathrooms_nan.sum()\n",
        "bedrooms_nan_count = bedrooms_nan.sum()\n",
        "\n",
        "\n",
        "# Loop to iterate through all NANs\n",
        "for index, row in df[bathrooms_nan | bedrooms_nan].iterrows():\n",
        "    # Get a +-300 square feet range.\n",
        "    sqft = row['square_feet']\n",
        "    similar_listings = df[(df['square_feet'] >= sqft - 300) & (df['square_feet'] <= sqft + 300)]\n",
        "    ## Fill in the NANs with averages from properties +-300 SQFT\n",
        "    if pd.isna(row['bathrooms']):\n",
        "        avg_bathrooms = similar_listings['bathrooms'].mean()\n",
        "        df.at[index, 'bathrooms'] = round_bathrooms(avg_bathrooms)\n",
        "\n",
        "    if pd.isna(row['bedrooms']):\n",
        "        avg_bedrooms = similar_listings['bedrooms'].mean()\n",
        "        df.at[index, 'bedrooms'] = round(avg_bedrooms)\n",
        "\n",
        "## Get the filled amount for statistics\n",
        "bathrooms_filled = bathrooms_nan_count - df['bathrooms'].isna().sum()\n",
        "bedrooms_filled = bedrooms_nan_count - df['bedrooms'].isna().sum()\n",
        "\n",
        "print(f\"Filled {bathrooms_filled} NaN values in 'bathrooms' column\")\n",
        "print(f\"Filled {bedrooms_filled} NaN values in 'bedrooms' column\")"
      ],
      "metadata": {
        "colab": {
          "base_uri": "https://localhost:8080/"
        },
        "id": "dvb-9OIrt5Xq",
        "outputId": "856d88eb-08a5-4326-f619-e85d8d7571b8"
      },
      "execution_count": null,
      "outputs": [
        {
          "output_type": "stream",
          "name": "stdout",
          "text": [
            "Filled 60 NaN values in 'bathrooms' column\n",
            "Filled 124 NaN values in 'bedrooms' column\n"
          ]
        }
      ]
    },
    {
      "cell_type": "markdown",
      "source": [
        "We once again check the NANs and drop duplicates."
      ],
      "metadata": {
        "id": "ywrWqxo1vDPN"
      }
    },
    {
      "cell_type": "code",
      "source": [
        "## Remove duplicates with pandas function\n",
        "duplicates_count = df.duplicated().sum()\n",
        "df = df.drop_duplicates()\n",
        "# Count how many where removed\n",
        "remaining_nans = df.isna().sum().sum()\n",
        "print(f\"Dropped {duplicates_count} duplicate rows\")\n",
        "\n",
        "print(\"NANs per column:\")\n",
        "print(df.isna().sum())\n",
        "print(\"\\n\")"
      ],
      "metadata": {
        "colab": {
          "base_uri": "https://localhost:8080/"
        },
        "id": "QJrh5LxRvGOj",
        "outputId": "c9a10557-c908-4804-9676-5f6313efd5e7"
      },
      "execution_count": null,
      "outputs": [
        {
          "output_type": "stream",
          "name": "stdout",
          "text": [
            "Dropped 84 duplicate rows\n",
            "NANs per column:\n",
            "id                 0\n",
            "category           0\n",
            "title              0\n",
            "body               0\n",
            "bathrooms          3\n",
            "bedrooms           0\n",
            "currency           0\n",
            "fee                0\n",
            "has_photo          0\n",
            "price              1\n",
            "price_display      1\n",
            "price_type         0\n",
            "square_feet        0\n",
            "cityname         302\n",
            "state            302\n",
            "latitude          25\n",
            "longitude         25\n",
            "source             0\n",
            "time               0\n",
            "dtype: int64\n",
            "\n",
            "\n"
          ]
        }
      ]
    },
    {
      "cell_type": "markdown",
      "source": [
        "As the remaining values represent a very small amount of data based on the dataset, we can remove them. These columns are also categorical and much harder to fill."
      ],
      "metadata": {
        "id": "2XdHRmTCvKfr"
      }
    },
    {
      "cell_type": "code",
      "source": [
        "# Drop the remaining NANs\n",
        "df = df.dropna()\n",
        "\n",
        "print(f\"Dropped {remaining_nans} rows with remaining NaN values\")\n",
        "print(\"\\nFinal NANs per column:\")\n",
        "print(df.isna().sum())\n",
        "\n",
        "# Reset Index\n",
        "df.reset_index(drop=True, inplace=True)"
      ],
      "metadata": {
        "colab": {
          "base_uri": "https://localhost:8080/"
        },
        "id": "i-BVrrZLvXpZ",
        "outputId": "fa670d68-57a4-4fef-e5bc-222392cf230b"
      },
      "execution_count": null,
      "outputs": [
        {
          "output_type": "stream",
          "name": "stdout",
          "text": [
            "Dropped 659 rows with remaining NaN values\n",
            "\n",
            "Final NANs per column:\n",
            "id               0\n",
            "category         0\n",
            "title            0\n",
            "body             0\n",
            "bathrooms        0\n",
            "bedrooms         0\n",
            "currency         0\n",
            "fee              0\n",
            "has_photo        0\n",
            "price            0\n",
            "price_display    0\n",
            "price_type       0\n",
            "square_feet      0\n",
            "cityname         0\n",
            "state            0\n",
            "latitude         0\n",
            "longitude        0\n",
            "source           0\n",
            "time             0\n",
            "dtype: int64\n"
          ]
        }
      ]
    },
    {
      "cell_type": "markdown",
      "source": [
        "As can be seen, the dataset is clean from empty spaces. We can now purge the outliers. For this, we look at the describe function from earlier earlier."
      ],
      "metadata": {
        "id": "0D2vs_q1vjKk"
      }
    },
    {
      "cell_type": "code",
      "source": [
        "# Print describe\n",
        "print(\"DataFrame Description:\")\n",
        "print(df.describe())"
      ],
      "metadata": {
        "colab": {
          "base_uri": "https://localhost:8080/"
        },
        "id": "fI_LN58swur3",
        "outputId": "7a52bd0e-648a-4c19-93a5-57f26425198f"
      },
      "execution_count": null,
      "outputs": [
        {
          "output_type": "stream",
          "name": "stdout",
          "text": [
            "DataFrame Description:\n",
            "                 id     bathrooms      bedrooms         price   square_feet  \\\n",
            "count  9.910300e+04  99103.000000  99103.000000  99103.000000  99103.000000   \n",
            "mean   5.358109e+09      1.445516      1.727647   1525.192476    955.500721   \n",
            "std    1.846965e+08      0.547022      0.749092    899.230325    365.976176   \n",
            "min    5.121046e+09      1.000000      0.000000    100.000000    101.000000   \n",
            "25%    5.197948e+09      1.000000      1.000000   1012.000000    729.000000   \n",
            "50%    5.508672e+09      1.000000      2.000000   1350.000000    900.000000   \n",
            "75%    5.509006e+09      2.000000      2.000000   1795.000000   1115.000000   \n",
            "max    5.669439e+09      9.000000      9.000000  52500.000000  12000.000000   \n",
            "\n",
            "           latitude     longitude          time  \n",
            "count  99103.000000  99103.000000  9.910300e+04  \n",
            "mean      36.941299    -91.555459  1.559652e+09  \n",
            "std        4.604581     15.832374  1.105018e+07  \n",
            "min       19.573800   -159.369800  1.544174e+09  \n",
            "25%       33.743550   -104.817100  1.550832e+09  \n",
            "50%       37.213900    -84.549400  1.568745e+09  \n",
            "75%       39.955900    -77.576700  1.568767e+09  \n",
            "max       64.833200    -68.778800  1.577391e+09  \n"
          ]
        }
      ]
    },
    {
      "cell_type": "markdown",
      "source": [
        "As can be seen, most numeric columns dont have hugh max and mins when compared to the mean, with the exception of price and square feet. So our outlier removal will focus on these 2. For this, will remove every price and squarefeet that is above our 99th percentile."
      ],
      "metadata": {
        "id": "LbMK4UBJwzQS"
      }
    },
    {
      "cell_type": "code",
      "source": [
        "# Get the 99th percentile for both\n",
        "price_99_percentile = np.percentile(df['price'], 99)\n",
        "sqft_99_percentile = np.percentile(df['square_feet'], 99)\n",
        "\n",
        "print(\"\\n99th Percentile Values:\")\n",
        "print(f\"Price: ${price_99_percentile:.2f}\")\n",
        "print(f\"Square Feet: {sqft_99_percentile:.2f}\")\n",
        "\n",
        "# Based on this 99th pecentile, we remove all values that go above it.\n",
        "\n",
        "rows_before = len(df)\n",
        "df = df[(df['square_feet'] <= 2259) & (df['price'] <= 4250)]\n",
        "rows_after = len(df)\n",
        "# Reset Index\n",
        "df.reset_index(drop=True, inplace=True)\n",
        "\n",
        "# Print the removed values\n",
        "print(f\"\\nRemoved {rows_before - rows_after} rows where square_feet > 2259 or price > 4250\")\n",
        "print(f\"Final DataFrame shape: {df.shape}\")"
      ],
      "metadata": {
        "colab": {
          "base_uri": "https://localhost:8080/"
        },
        "id": "5rmYwtvL0dBY",
        "outputId": "d5c325a5-851b-48ed-9632-33da69e3a6f5"
      },
      "execution_count": null,
      "outputs": [
        {
          "output_type": "stream",
          "name": "stdout",
          "text": [
            "\n",
            "99th Percentile Values:\n",
            "Price: $4250.00\n",
            "Square Feet: 2259.00\n",
            "\n",
            "Removed 1761 rows where square_feet > 2259 or price > 4250\n",
            "Final DataFrame shape: (97342, 19)\n"
          ]
        }
      ]
    },
    {
      "cell_type": "markdown",
      "source": [
        "Now we have the final dataframe with 97342 columns. Now, we must define the columns that will be used for training. We use the .head function above to see that the numerical columns and also the categorical ones can fit our description. We first identify that columns category, title, body, currency, price_display, source and time aren't relevant, as the category is the same for every entry, body is a description belonging to the specific aparment which is unique for each listing, making it only useful for natural language or sentiment analysis. Title is also not a categoric class and only serves for language processing. Price display is the same as price but repeated with a dollar sign and currency is USD for every entry so it doesn't help an analysis, therefore, we drop them."
      ],
      "metadata": {
        "id": "SNS5WSuv7qV4"
      }
    },
    {
      "cell_type": "code",
      "source": [
        "columns_to_drop = ['category', 'title', 'body', 'currency', 'price_display', 'source','time']\n",
        "df = df.drop(columns=columns_to_drop)"
      ],
      "metadata": {
        "id": "fVzL8wvBLCMT"
      },
      "execution_count": null,
      "outputs": []
    },
    {
      "cell_type": "markdown",
      "source": [
        "We check our remaining columns and values."
      ],
      "metadata": {
        "id": "bYHs4JS5LNZ-"
      }
    },
    {
      "cell_type": "code",
      "source": [
        "print(df.head(30))"
      ],
      "metadata": {
        "colab": {
          "base_uri": "https://localhost:8080/"
        },
        "id": "iBWdYR4kLM_E",
        "outputId": "037f43cd-d8c6-4aba-a6b5-e5d00a3ecb2e"
      },
      "execution_count": null,
      "outputs": [
        {
          "output_type": "stream",
          "name": "stdout",
          "text": [
            "            id  bathrooms  bedrooms fee  has_photo   price price_type  \\\n",
            "0   5668640009        1.0       1.0  No  Thumbnail  2195.0    Monthly   \n",
            "1   5668639818        1.5       3.0  No  Thumbnail  1250.0    Monthly   \n",
            "2   5668639686        2.0       3.0  No  Thumbnail  1395.0    Monthly   \n",
            "3   5668639659        1.0       2.0  No  Thumbnail  1600.0    Monthly   \n",
            "4   5668639374        1.0       1.0  No  Thumbnail   975.0    Monthly   \n",
            "5   5668639368        1.5       2.0  No  Thumbnail  1250.0    Monthly   \n",
            "6   5668638765        2.0       2.0  No  Thumbnail  1600.0    Monthly   \n",
            "7   5668638578        2.0       2.0  No  Thumbnail  1300.0    Monthly   \n",
            "8   5668638476        1.0       2.0  No  Thumbnail   795.0    Monthly   \n",
            "9   5668638122        2.0       2.0  No  Thumbnail  2150.0    Monthly   \n",
            "10  5668638015        2.5       3.0  No  Thumbnail  1795.0    Monthly   \n",
            "11  5668637809        2.0       2.0  No  Thumbnail  2395.0    Monthly   \n",
            "12  5668637528        1.0       3.0  No  Thumbnail   720.0    Monthly   \n",
            "13  5668636381        1.5       2.0  No  Thumbnail  2000.0    Monthly   \n",
            "14  5668636291        1.0       1.0  No  Thumbnail   729.0    Monthly   \n",
            "15  5668635018        1.0       1.0  No  Thumbnail  1045.0    Monthly   \n",
            "16  5668634255        3.0       3.0  No  Thumbnail  1800.0    Monthly   \n",
            "17  5668633909        1.0       2.0  No  Thumbnail  1250.0    Monthly   \n",
            "18  5668632975        1.0       0.0  No  Thumbnail  1099.0    Monthly   \n",
            "19  5668632369        1.0       1.0  No  Thumbnail  1060.0    Monthly   \n",
            "20  5668632002        1.0       1.0  No  Thumbnail  1003.0    Monthly   \n",
            "21  5668631854        1.0       1.0  No  Thumbnail   837.0    Monthly   \n",
            "22  5668631790        1.0       1.0  No  Thumbnail  1020.0    Monthly   \n",
            "23  5668631784        1.0       1.0  No  Thumbnail   985.0    Monthly   \n",
            "24  5668631302        1.0       1.0  No  Thumbnail  1581.0    Monthly   \n",
            "25  5668630952        1.0       1.0  No  Thumbnail  1090.0    Monthly   \n",
            "26  5668630836        2.5       3.0  No  Thumbnail  3250.0    Monthly   \n",
            "27  5668630485        1.0       1.0  No  Thumbnail   962.0    Monthly   \n",
            "28  5668630356        2.0       2.0  No  Thumbnail  1740.0    Monthly   \n",
            "29  5668630131        1.0       1.0  No  Thumbnail  1722.0    Monthly   \n",
            "\n",
            "    square_feet         cityname state  latitude  longitude  \n",
            "0           542    Redondo Beach    CA   33.8520  -118.3759  \n",
            "1          1500     Newport News    VA   37.0867   -76.4941  \n",
            "2          1650          Raleigh    NC   35.8230   -78.6438  \n",
            "3           820        Vacaville    CA   38.3622  -121.9712  \n",
            "4           624      Albuquerque    NM   35.1038  -106.6110  \n",
            "5           965      Albuquerque    NM   35.1038  -106.6110  \n",
            "6          1120          Hampton    VA   37.0451   -76.3664  \n",
            "7           947         Lakewood    CO   39.6894  -105.1119  \n",
            "8           600       Charleston    WV   38.3454   -81.6219  \n",
            "9          1005       Chatsworth    CA   34.2551  -118.5976  \n",
            "10         1522       Alpharetta    GA   34.0718   -84.2525  \n",
            "11          896       Washington    DC   38.9118   -77.0132  \n",
            "12          800             Ames    IA   42.0259   -93.6516  \n",
            "13          872         Kirkland    WA   47.7046  -122.1989  \n",
            "14          800      San Antonio    TX   29.4624   -98.5253  \n",
            "15          700       Villa Park    IL   41.8787   -87.9798  \n",
            "16         1500           Oxford    MS   34.3504   -89.5190  \n",
            "17          435         Portland    OR   45.5091  -122.6449  \n",
            "18          290         Portland    OR   45.5091  -122.6449  \n",
            "19          650           Austin    TX   30.3054   -97.7497  \n",
            "20          797       Round Rock    TX   30.5118   -97.6873  \n",
            "21          444           Austin    TX   30.3054   -97.7497  \n",
            "22          692           Austin    TX   30.3054   -97.7497  \n",
            "23          693           Austin    TX   30.3054   -97.7497  \n",
            "24          703           Austin    TX   30.3054   -97.7497  \n",
            "25          665       Georgetown    TX   30.6505   -97.6809  \n",
            "26         1525     Ladera Ranch    CA   33.5585  -117.6695  \n",
            "27          532           Austin    TX   30.3054   -97.7497  \n",
            "28         1600  West Palm Beach    FL   26.7173   -80.1164  \n",
            "29          453           Austin    TX   30.3054   -97.7497  \n"
          ]
        }
      ]
    },
    {
      "cell_type": "markdown",
      "source": [
        "We know focus out attention to the 3 columns that appear to have mostly a single value. We count how many values they have and print them."
      ],
      "metadata": {
        "id": "O2gctibHg3h7"
      }
    },
    {
      "cell_type": "code",
      "source": [
        "# Print value counts for the specified columns\n",
        "columns_of_interest = ['fee', 'has_photo', 'price_type']\n",
        "\n",
        "for column in columns_of_interest:\n",
        "    print(f\"\\nValue counts for {column}:\")\n",
        "    print(df[column].value_counts())"
      ],
      "metadata": {
        "colab": {
          "base_uri": "https://localhost:8080/"
        },
        "id": "dKw430mQhMsk",
        "outputId": "86a06dce-9157-4687-8fc1-404979a5c880"
      },
      "execution_count": null,
      "outputs": [
        {
          "output_type": "stream",
          "name": "stdout",
          "text": [
            "\n",
            "Value counts for fee:\n",
            "fee\n",
            "No     97152\n",
            "Yes      190\n",
            "Name: count, dtype: int64\n",
            "\n",
            "Value counts for has_photo:\n",
            "has_photo\n",
            "Yes          54806\n",
            "Thumbnail    33570\n",
            "No            8966\n",
            "Name: count, dtype: int64\n",
            "\n",
            "Value counts for price_type:\n",
            "price_type\n",
            "Monthly           97340\n",
            "Weekly                1\n",
            "Monthly|Weekly        1\n",
            "Name: count, dtype: int64\n"
          ]
        }
      ]
    },
    {
      "cell_type": "markdown",
      "source": [
        "AS can be seen, the fee column has almost no values in Yes, which means the Yes value wouldn't be useful in a regression analysis. With Price_type, we see that it has 3 classes, but only 1 value out of more than 97 000 for 2 of the 3 classes, so we can remove it. Finally, has_photo appears to have 3 classes with a lot of\n",
        "\n",
        "We now have to transform the 3 remaining using one hot encoding and Target encoding."
      ],
      "metadata": {
        "id": "UUf3358tklKq"
      }
    },
    {
      "cell_type": "code",
      "source": [
        "columns_to_drop = ['fee', 'price_type']\n",
        "df = df.drop(columns=columns_to_drop)"
      ],
      "metadata": {
        "id": "STXjfD27ohDk"
      },
      "execution_count": null,
      "outputs": []
    },
    {
      "cell_type": "code",
      "source": [
        "# Perform one-hot encoding\n",
        "df_encoded = pd.get_dummies(df, columns=['has_photo'], prefix='photo')\n",
        "\n",
        "# Display the first few rows of the encoded DataFrame\n",
        "print(df_encoded.head())\n"
      ],
      "metadata": {
        "colab": {
          "base_uri": "https://localhost:8080/"
        },
        "id": "nH10o7bCotaO",
        "outputId": "d186d65f-e1fc-4a83-a551-3b56efe889d1"
      },
      "execution_count": null,
      "outputs": [
        {
          "output_type": "stream",
          "name": "stdout",
          "text": [
            "           id  bathrooms  bedrooms   price  square_feet       cityname state  \\\n",
            "0  5668640009        1.0       1.0  2195.0          542  Redondo Beach    CA   \n",
            "1  5668639818        1.5       3.0  1250.0         1500   Newport News    VA   \n",
            "2  5668639686        2.0       3.0  1395.0         1650        Raleigh    NC   \n",
            "3  5668639659        1.0       2.0  1600.0          820      Vacaville    CA   \n",
            "4  5668639374        1.0       1.0   975.0          624    Albuquerque    NM   \n",
            "\n",
            "   latitude  longitude  photo_No  photo_Thumbnail  photo_Yes  \n",
            "0   33.8520  -118.3759     False             True      False  \n",
            "1   37.0867   -76.4941     False             True      False  \n",
            "2   35.8230   -78.6438     False             True      False  \n",
            "3   38.3622  -121.9712     False             True      False  \n",
            "4   35.1038  -106.6110     False             True      False  \n"
          ]
        }
      ]
    },
    {
      "cell_type": "code",
      "source": [
        "!pip install category_encoders\n",
        "from category_encoders import TargetEncoder\n",
        "\n",
        "# Create a TargetEncoder\n",
        "encoder = TargetEncoder(cols=['cityname', 'state'])\n",
        "\n",
        "# Fit and transform the encoder on the original dataframe\n",
        "encoded_columns = encoder.fit_transform(df[['cityname', 'state']], df['price'])\n",
        "\n",
        "# Rename the columns to be representative\n",
        "encoded_columns.columns = ['cityname_encoded', 'state_encoded']\n",
        "\n",
        "# Add the encoded columns to df_encoded\n",
        "df_encoded = pd.concat([df_encoded, encoded_columns], axis=1)\n",
        "\n",
        "# Display the first few rows of the encoded DataFrame\n",
        "print(df_encoded.head())"
      ],
      "metadata": {
        "colab": {
          "base_uri": "https://localhost:8080/"
        },
        "id": "2sEPGKgu5nmr",
        "outputId": "206a7325-2f91-44c4-d393-28cfd4ef789d"
      },
      "execution_count": null,
      "outputs": [
        {
          "output_type": "stream",
          "name": "stdout",
          "text": [
            "Collecting category_encoders\n",
            "  Downloading category_encoders-2.6.4-py2.py3-none-any.whl.metadata (8.0 kB)\n",
            "Requirement already satisfied: numpy>=1.14.0 in /usr/local/lib/python3.10/dist-packages (from category_encoders) (1.26.4)\n",
            "Requirement already satisfied: scikit-learn>=0.20.0 in /usr/local/lib/python3.10/dist-packages (from category_encoders) (1.5.2)\n",
            "Requirement already satisfied: scipy>=1.0.0 in /usr/local/lib/python3.10/dist-packages (from category_encoders) (1.13.1)\n",
            "Requirement already satisfied: statsmodels>=0.9.0 in /usr/local/lib/python3.10/dist-packages (from category_encoders) (0.14.4)\n",
            "Requirement already satisfied: pandas>=1.0.5 in /usr/local/lib/python3.10/dist-packages (from category_encoders) (2.2.2)\n",
            "Requirement already satisfied: patsy>=0.5.1 in /usr/local/lib/python3.10/dist-packages (from category_encoders) (0.5.6)\n",
            "Requirement already satisfied: python-dateutil>=2.8.2 in /usr/local/lib/python3.10/dist-packages (from pandas>=1.0.5->category_encoders) (2.8.2)\n",
            "Requirement already satisfied: pytz>=2020.1 in /usr/local/lib/python3.10/dist-packages (from pandas>=1.0.5->category_encoders) (2024.2)\n",
            "Requirement already satisfied: tzdata>=2022.7 in /usr/local/lib/python3.10/dist-packages (from pandas>=1.0.5->category_encoders) (2024.2)\n",
            "Requirement already satisfied: six in /usr/local/lib/python3.10/dist-packages (from patsy>=0.5.1->category_encoders) (1.16.0)\n",
            "Requirement already satisfied: joblib>=1.2.0 in /usr/local/lib/python3.10/dist-packages (from scikit-learn>=0.20.0->category_encoders) (1.4.2)\n",
            "Requirement already satisfied: threadpoolctl>=3.1.0 in /usr/local/lib/python3.10/dist-packages (from scikit-learn>=0.20.0->category_encoders) (3.5.0)\n",
            "Requirement already satisfied: packaging>=21.3 in /usr/local/lib/python3.10/dist-packages (from statsmodels>=0.9.0->category_encoders) (24.1)\n",
            "Downloading category_encoders-2.6.4-py2.py3-none-any.whl (82 kB)\n",
            "\u001b[2K   \u001b[90m━━━━━━━━━━━━━━━━━━━━━━━━━━━━━━━━━━━━━━━━\u001b[0m \u001b[32m82.0/82.0 kB\u001b[0m \u001b[31m4.0 MB/s\u001b[0m eta \u001b[36m0:00:00\u001b[0m\n",
            "\u001b[?25hInstalling collected packages: category_encoders\n",
            "Successfully installed category_encoders-2.6.4\n",
            "           id  bathrooms  bedrooms   price  square_feet       cityname state  \\\n",
            "0  5668640009        1.0       1.0  2195.0          542  Redondo Beach    CA   \n",
            "1  5668639818        1.5       3.0  1250.0         1500   Newport News    VA   \n",
            "2  5668639686        2.0       3.0  1395.0         1650        Raleigh    NC   \n",
            "3  5668639659        1.0       2.0  1600.0          820      Vacaville    CA   \n",
            "4  5668639374        1.0       1.0   975.0          624    Albuquerque    NM   \n",
            "\n",
            "   latitude  longitude  photo_No  photo_Thumbnail  photo_Yes  \\\n",
            "0   33.8520  -118.3759     False             True      False   \n",
            "1   37.0867   -76.4941     False             True      False   \n",
            "2   35.8230   -78.6438     False             True      False   \n",
            "3   38.3622  -121.9712     False             True      False   \n",
            "4   35.1038  -106.6110     False             True      False   \n",
            "\n",
            "   cityname_encoded  state_encoded  \n",
            "0       2547.956803    2211.773813  \n",
            "1       1079.133484    1480.738671  \n",
            "2       1242.160880    1145.729327  \n",
            "3       1849.724384    2211.773813  \n",
            "4       1306.431543    1095.470077  \n"
          ]
        }
      ]
    },
    {
      "cell_type": "code",
      "source": [
        "# Now remove the original columns\n",
        "columns_to_drop = ['cityname', 'state']\n",
        "df_encoded = df_encoded.drop(columns=columns_to_drop)\n",
        "# Display the first few rows of the encoded DataFrame\n",
        "print(df_encoded.head())"
      ],
      "metadata": {
        "colab": {
          "base_uri": "https://localhost:8080/"
        },
        "id": "XfX4fgCe6R04",
        "outputId": "3729bf5b-4fb4-4c00-aaae-d9b42f1ed971"
      },
      "execution_count": null,
      "outputs": [
        {
          "output_type": "stream",
          "name": "stdout",
          "text": [
            "           id  bathrooms  bedrooms   price  square_feet  latitude  longitude  \\\n",
            "0  5668640009        1.0       1.0  2195.0          542   33.8520  -118.3759   \n",
            "1  5668639818        1.5       3.0  1250.0         1500   37.0867   -76.4941   \n",
            "2  5668639686        2.0       3.0  1395.0         1650   35.8230   -78.6438   \n",
            "3  5668639659        1.0       2.0  1600.0          820   38.3622  -121.9712   \n",
            "4  5668639374        1.0       1.0   975.0          624   35.1038  -106.6110   \n",
            "\n",
            "   photo_No  photo_Thumbnail  photo_Yes  cityname_encoded  state_encoded  \n",
            "0     False             True      False       2547.956803    2211.773813  \n",
            "1     False             True      False       1079.133484    1480.738671  \n",
            "2     False             True      False       1242.160880    1145.729327  \n",
            "3     False             True      False       1849.724384    2211.773813  \n",
            "4     False             True      False       1306.431543    1095.470077  \n"
          ]
        }
      ]
    },
    {
      "cell_type": "markdown",
      "source": [
        "Now, we calculate the Gain Ratio, Correlation and F value, which are used for feasture selection in regression."
      ],
      "metadata": {
        "id": "mWxnTddt8O28"
      }
    },
    {
      "cell_type": "code",
      "source": [
        "\n",
        "from sklearn.feature_selection import mutual_info_regression, f_regression\n",
        "from scipy.stats import entropy\n",
        "\n",
        "# Define function for the gain ratio calculation, idea gotten from https://github.com/maha-prathamesh/Feature-Selection-Techniques/blob/main/Feature%20Selection%20Based%20on%20Mutual%20Information%20(Entropy)%20Gain.ipynb\n",
        "def calculate_gain_ratio(X, y):\n",
        "    mi = mutual_info_regression(X, y)\n",
        "    # Use the entropy and the mutual info regression to get the gain ratio.\n",
        "    feature_entropy = np.array([calculate_entropy(X[col]) for col in X.columns])\n",
        "    gain_ratio = mi / feature_entropy\n",
        "    return gain_ratio\n",
        "# Entropy calculator, https://docs.scipy.org/doc/scipy/reference/generated/scipy.stats.entropy.html\n",
        "def calculate_entropy(column):\n",
        "    _, counts = np.unique(column, return_counts=True)\n",
        "    probabilities = counts / len(column)\n",
        "    return -np.sum(probabilities * np.log2(probabilities + 1e-10))\n",
        "# Correlation function, https://numpy.org/devdocs/reference/generated/numpy.corrcoef.html\n",
        "def calculate_correlation(X, y):\n",
        "    return np.array([abs(np.corrcoef(X[col], y)[0, 1]) for col in X.columns])\n",
        "\n",
        "\n",
        "\n",
        "# Now create the features and target\n",
        "X = df_encoded[['square_feet','bathrooms','bedrooms', 'latitude', 'longitude', 'photo_No', 'photo_Thumbnail', 'photo_Yes', 'cityname_encoded', 'state_encoded']]\n",
        "y = df_encoded['price']\n",
        "\n",
        "# Split the data into train and test sets\n",
        "X_train, X_test, y_train, y_test = train_test_split(X, y, test_size=0.2, random_state=42)\n",
        "\n",
        "# Calculate Gain Ratio\n",
        "gain_ratio = calculate_gain_ratio(X_train, y_train)\n",
        "\n",
        "# Calculate Correlation\n",
        "correlation = calculate_correlation(X_train, y_train)\n",
        "\n",
        "# Calculate F-value\n",
        "f_values, _ = f_regression(X_train, y_train)\n",
        "\n",
        "\n",
        "\n",
        "# Create a DataFrame with the results\n",
        "results = pd.DataFrame({\n",
        "    'Feature': X.columns,\n",
        "    'Gain Ratio': gain_ratio,\n",
        "    'Correlation': correlation,\n",
        "    'F-value': f_values\n",
        "})\n",
        "\n",
        "# Sort the results by Correlation, as that value is more important for regression problems.\n",
        "results_sorted = results.sort_values('Correlation', ascending=False)\n",
        "\n",
        "print(results_sorted)"
      ],
      "metadata": {
        "colab": {
          "base_uri": "https://localhost:8080/"
        },
        "id": "S-YJ8s_X8j69",
        "outputId": "6723e392-d434-496c-9c5d-50dd8a02bb8d"
      },
      "execution_count": null,
      "outputs": [
        {
          "output_type": "stream",
          "name": "stdout",
          "text": [
            "            Feature  Gain Ratio  Correlation       F-value\n",
            "8  cityname_encoded    0.082004     0.729515  88588.150818\n",
            "9     state_encoded    0.089899     0.612226  46686.772780\n",
            "0       square_feet    0.043805     0.325454   9225.251732\n",
            "1         bathrooms    0.060032     0.271655   6204.474879\n",
            "2          bedrooms    0.038328     0.188929   2882.421336\n",
            "3          latitude    0.058497     0.110358    960.078987\n",
            "4         longitude    0.067130     0.090115    637.551065\n",
            "6   photo_Thumbnail    0.008520     0.076738    461.272005\n",
            "7         photo_Yes    0.004411     0.050954    202.705040\n",
            "5          photo_No    0.010255     0.038655    116.527880\n"
          ]
        }
      ]
    },
    {
      "cell_type": "markdown",
      "source": [
        "As we can see, the correlation and F value both indicate that the top 5 features are cityname_encoded, state_encoded, square_feet, bathrooms and bedrooms. It also indicates that square feet, bathrooms and bedrooms are heavily non linear when compared to the target encoded columns, which means that models that handle non linear relationships will likely do better in the future sections.\n",
        "\n",
        " These 5 are the ones we will use. First, we use a standar scaler to the numeric values and then saved these scaled values. The standard scaler was used as it deals with the excesive variance of price and price derived columns."
      ],
      "metadata": {
        "id": "9u8mfsQSCVnx"
      }
    },
    {
      "cell_type": "code",
      "execution_count": null,
      "metadata": {
        "id": "l_iYViLkdQiT"
      },
      "outputs": [],
      "source": [
        "df = df_encoded.copy()\n",
        "scaler = StandardScaler()\n",
        "df[['square_feet', 'latitude', 'longitude', 'cityname_encoded',  'state_encoded']] = scaler.fit_transform(df[['square_feet', 'latitude', 'longitude', 'cityname_encoded',  'state_encoded']])\n",
        "# Save clean DF for future use.\n",
        "df.to_csv('clean_apartments_for_rent.csv', index=False)"
      ]
    },
    {
      "cell_type": "markdown",
      "source": [
        "## Training and Model Applications"
      ],
      "metadata": {
        "id": "YMfnWVp5Hut-"
      }
    },
    {
      "cell_type": "markdown",
      "source": [
        "We start now by taking the clean and scaled dataset and appying models to it. The 80-20 division was used before and will be used in each model as well. We selected 4 models focused on regression: Polynomial, Ridge, Elastic Net and Random Forest. For all these, the MAE, MSE, RMSE and RMSPE were calculated to give meaningful performance metrics. All these models were trained with the exact same columns and data to ensure that all other variables aside from model remain consistent."
      ],
      "metadata": {
        "id": "GwsG2ZL8IQI8"
      }
    },
    {
      "cell_type": "markdown",
      "source": [
        "### Polynomial Regression"
      ],
      "metadata": {
        "id": "r6jNnIH0H1FN"
      }
    },
    {
      "cell_type": "markdown",
      "source": [
        "Now, we move on to implementing a polynomial regression. For this, we tried to do it with sklearn, but the toll it took on the hardware past grade 5 made it unviable, as it took several hours just for grade 6. So, we instead switched to Pytorch for this model alone and used CUDA to speed up the process consdierably.\n",
        "\n",
        "Polynomial regression is  is a form of regression analysis where the relationship between the independent variables and the dependent variable is modeled via a polynomial of the nth degree, where N is the discrete value of the poly grade. It's an continuation of linear regression that allows for more complex, non-linear relationships to be captured, like the ones seen in the feature selection for this data set. It can be used to model curved relationships and better fit non  linear data points. It uses the following formula Polynomial: y = b*0 + b1*x + b2*x^2....bn*x^n and is generally more prone to overfitting, so a hyper parameter analysis is required. [2]"
      ],
      "metadata": {
        "id": "XmfB5SriKQBq"
      }
    },
    {
      "cell_type": "code",
      "source": [
        "\n",
        "##################################################################\n",
        "######################Training###################################\n",
        "#################################################################\n",
        "# Check if CUDA is available and set the device\n",
        "device = torch.device(\"cuda\" if torch.cuda.is_available() else \"cpu\")\n",
        "print(f\"Using device: {device}\")\n",
        "\n",
        "# Prepare the features and target based on feature analysis.\n",
        "X = df[['bedrooms', 'bathrooms', 'square_feet', 'cityname_encoded',  'state_encoded']]\n",
        "y = df['price']\n",
        "\n",
        "# Split the data into training and testing sets\n",
        "X_train, X_test, y_train, y_test = train_test_split(X, y, test_size=0.2, random_state=42)\n",
        "\n",
        "# Function to calculate metrics, based on their statistical definitions [4].\n",
        "def calculate_metrics(y_true, y_pred):\n",
        "    mae = torch.mean(torch.abs(y_true - y_pred)).item()\n",
        "    mse = torch.mean((y_true - y_pred)**2).item()\n",
        "    rmse = torch.sqrt(torch.mean((y_true - y_pred)**2)).item()\n",
        "    rmspe = torch.sqrt(torch.mean(((y_true - y_pred) / y_true)**2)).item() * 100\n",
        "    return mae, mse, rmse, rmspe\n",
        "\n",
        "# Lists to store metric values for plotting\n",
        "rmse_train_list, rmse_test_list = [], []\n",
        "rmspe_train_list, rmspe_test_list = [], []\n",
        "\n",
        "# Polynomial regression for degrees 1-9\n",
        "for degree in range(1, 10):\n",
        "    # Create polynomial features using scikit-learn and assigning all 9 variants for polynomials 1-9\n",
        "    poly = PolynomialFeatures(degree, include_bias=False)\n",
        "    # Fit the training variables unto polynomial features for training.\n",
        "    X_poly_train = poly.fit_transform(X_train)\n",
        "    X_poly_test = poly.transform(X_test)\n",
        "\n",
        "    # Convert to PyTorch tensors and move to GPU to leverage CUDA for faster execution\n",
        "    X_poly_train_tensor = torch.FloatTensor(X_poly_train).to(device)\n",
        "    X_poly_test_tensor = torch.FloatTensor(X_poly_test).to(device)\n",
        "    y_train_tensor = torch.FloatTensor(y_train.values).to(device)\n",
        "    y_test_tensor = torch.FloatTensor(y_test.values).to(device)\n",
        "\n",
        "    # Define model, loss function, and optimizer, to use in the trianing of the model.\n",
        "    model = nn.Linear(X_poly_train.shape[1], 1).to(device)\n",
        "    criterion = nn.MSELoss()\n",
        "    optimizer = optim.Adam(model.parameters(), lr=0.1)\n",
        "\n",
        "    # Train the model, Epoch, or execution number, is defined based on several previous runs to balance execution time\n",
        "    # instead of using grid search to find it.\n",
        "    num_epochs = 15000\n",
        "    for epoch in range(num_epochs):\n",
        "      # Trian the model with the loss function and optimizer, code based on code gotten from https://stackoverflow.com/questions/75906819/simple-linear-regression-in-pytorch-why-loss-is-increasing-with-each-epoch\n",
        "        optimizer.zero_grad()\n",
        "        outputs = model(X_poly_train_tensor)\n",
        "        loss = criterion(outputs.squeeze(), y_train_tensor)\n",
        "        loss.backward()\n",
        "        optimizer.step()\n",
        "\n",
        "    # Make predictions\n",
        "    with torch.no_grad():\n",
        "        y_pred_train = model(X_poly_train_tensor).squeeze()\n",
        "        y_pred_test = model(X_poly_test_tensor).squeeze()\n",
        "\n",
        "    # Calculate metrics based on functions defined.\n",
        "    mae_train, mse_train, rmse_train, rmspe_train = calculate_metrics(y_train_tensor, y_pred_train)\n",
        "    mae_test, mse_test, rmse_test, rmspe_test = calculate_metrics(y_test_tensor, y_pred_test)\n",
        "    # Append results to list for graphing\n",
        "    rmse_train_list.append(rmse_train)\n",
        "    rmse_test_list.append(rmse_test)\n",
        "    rmspe_train_list.append(rmspe_train)\n",
        "    rmspe_test_list.append(rmspe_test)\n",
        "    # Print results\n",
        "    print(f\"\\nPolynomial Grade {degree}:\")\n",
        "    print(f\"MAE-TEST: {mae_test:.2f}\")\n",
        "    print(f\"MAE-TRAINING: {mae_train:.2f}\")\n",
        "    print(f\"MSE-TEST: {mse_test:.2f}\")\n",
        "    print(f\"MSE-TRAINING: {mse_train:.2f}\")\n",
        "    print(f\"RMSE-TEST: {rmse_test:.2f}\")\n",
        "    print(f\"RMSE-TRAINING: {rmse_train:.2f}\")\n",
        "    print(f\"RMSPE-TEST: {rmspe_test:.2f}%\")\n",
        "    print(f\"RMSPE-TRAINING: {rmspe_train:.2f}%\")\n",
        "\n",
        "# Plotting definitions\n",
        "fig, (ax1, ax2) = plt.subplots(2, 1, figsize=(12, 16))\n",
        "\n",
        "# RMSE plot\n",
        "ax1.plot(range(1, 10), rmse_train_list, label='RMSE-TRAINING', marker='o')\n",
        "ax1.plot(range(1, 10), rmse_test_list, label='RMSE-TEST', marker='o')\n",
        "ax1.set_xlabel('Polynomial Grade')\n",
        "ax1.set_ylabel('RMSE')\n",
        "ax1.set_title('RMSE vs Polynomial Grade')\n",
        "ax1.legend()\n",
        "ax1.set_xticks(range(1, 10))\n",
        "ax1.grid(True)\n",
        "\n",
        "# RMSPE plot\n",
        "ax2.plot(range(1, 10), rmspe_train_list, label='RMSPE-TRAINING', marker='o')\n",
        "ax2.plot(range(1, 10), rmspe_test_list, label='RMSPE-TEST', marker='o')\n",
        "ax2.set_xlabel('Polynomial Grade')\n",
        "ax2.set_ylabel('RMSPE (%)')\n",
        "ax2.set_title('RMSPE vs Polynomial Grade')\n",
        "ax2.legend()\n",
        "ax2.set_xticks(range(1, 10))\n",
        "ax2.grid(True)\n",
        "\n",
        "plt.tight_layout()\n",
        "plt.show()"
      ],
      "metadata": {
        "id": "ASfz88E8fuYk",
        "colab": {
          "base_uri": "https://localhost:8080/",
          "height": 1000
        },
        "outputId": "5aa110f0-baf4-4fec-a0a5-76496d821d25"
      },
      "execution_count": null,
      "outputs": [
        {
          "output_type": "stream",
          "name": "stdout",
          "text": [
            "Using device: cuda\n",
            "\n",
            "Polynomial Grade 1:\n",
            "MAE-TEST: 274.36\n",
            "MAE-TRAINING: 269.88\n",
            "MSE-TEST: 140039.53\n",
            "MSE-TRAINING: 138145.09\n",
            "RMSE-TEST: 374.22\n",
            "RMSE-TRAINING: 371.68\n",
            "RMSPE-TEST: 27.97%\n",
            "RMSPE-TRAINING: 27.94%\n",
            "\n",
            "Polynomial Grade 2:\n",
            "MAE-TEST: 258.74\n",
            "MAE-TRAINING: 255.10\n",
            "MSE-TEST: 128335.20\n",
            "MSE-TRAINING: 127285.99\n",
            "RMSE-TEST: 358.24\n",
            "RMSE-TRAINING: 356.77\n",
            "RMSPE-TEST: 26.20%\n",
            "RMSPE-TRAINING: 26.26%\n",
            "\n",
            "Polynomial Grade 3:\n",
            "MAE-TEST: 251.49\n",
            "MAE-TRAINING: 247.77\n",
            "MSE-TEST: 121241.87\n",
            "MSE-TRAINING: 120076.25\n",
            "RMSE-TEST: 348.20\n",
            "RMSE-TRAINING: 346.52\n",
            "RMSPE-TEST: 25.30%\n",
            "RMSPE-TRAINING: 25.28%\n",
            "\n",
            "Polynomial Grade 4:\n",
            "MAE-TEST: 249.44\n",
            "MAE-TRAINING: 245.84\n",
            "MSE-TEST: 119781.74\n",
            "MSE-TRAINING: 117926.48\n",
            "RMSE-TEST: 346.10\n",
            "RMSE-TRAINING: 343.40\n",
            "RMSPE-TEST: 25.24%\n",
            "RMSPE-TRAINING: 25.16%\n",
            "\n",
            "Polynomial Grade 5:\n",
            "MAE-TEST: 248.87\n",
            "MAE-TRAINING: 244.75\n",
            "MSE-TEST: 119266.76\n",
            "MSE-TRAINING: 116860.95\n",
            "RMSE-TEST: 345.35\n",
            "RMSE-TRAINING: 341.85\n",
            "RMSPE-TEST: 25.11%\n",
            "RMSPE-TRAINING: 25.00%\n",
            "\n",
            "Polynomial Grade 6:\n",
            "MAE-TEST: 250.93\n",
            "MAE-TRAINING: 246.28\n",
            "MSE-TEST: 120896.45\n",
            "MSE-TRAINING: 117578.80\n",
            "RMSE-TEST: 347.70\n",
            "RMSE-TRAINING: 342.90\n",
            "RMSPE-TEST: 25.41%\n",
            "RMSPE-TRAINING: 25.27%\n",
            "\n",
            "Polynomial Grade 7:\n",
            "MAE-TEST: 253.89\n",
            "MAE-TRAINING: 248.53\n",
            "MSE-TEST: 124602.40\n",
            "MSE-TRAINING: 119677.73\n",
            "RMSE-TEST: 352.99\n",
            "RMSE-TRAINING: 345.94\n",
            "RMSPE-TEST: 25.67%\n",
            "RMSPE-TRAINING: 25.50%\n",
            "\n",
            "Polynomial Grade 8:\n",
            "MAE-TEST: 263.24\n",
            "MAE-TRAINING: 256.94\n",
            "MSE-TEST: 132745.28\n",
            "MSE-TRAINING: 126689.70\n",
            "RMSE-TEST: 364.34\n",
            "RMSE-TRAINING: 355.93\n",
            "RMSPE-TEST: 26.39%\n",
            "RMSPE-TRAINING: 26.17%\n",
            "\n",
            "Polynomial Grade 9:\n",
            "MAE-TEST: 290.37\n",
            "MAE-TRAINING: 282.62\n",
            "MSE-TEST: 159110.08\n",
            "MSE-TRAINING: 148759.77\n",
            "RMSE-TEST: 398.89\n",
            "RMSE-TRAINING: 385.69\n",
            "RMSPE-TEST: 28.40%\n",
            "RMSPE-TRAINING: 28.02%\n"
          ]
        },
        {
          "output_type": "display_data",
          "data": {
            "text/plain": [
              "<Figure size 1200x1600 with 2 Axes>"
            ],
            "image/png": "[encoded data removed]"
          },
          "metadata": {}
        }
      ]
    },
    {
      "cell_type": "markdown",
      "source": [
        "As can be seen, the best grade that reduces test and training error was grade 5, with an error of about 25% for both test and training. The best statistics for this was a MAE of 250, MSE of 120000 and RMSE of 347,70. These results are fairly adequate, as they provide a 3/4 chance of getting an input value correct.\n",
        "\n"
      ],
      "metadata": {
        "id": "qlsjgz3087u4"
      }
    },
    {
      "cell_type": "markdown",
      "source": [
        "### Ridge\n",
        "\n",
        "We now move on to using a lineal model in the form of Ridge regression, also known as L2 regression, as seen in class."
      ],
      "metadata": {
        "id": "81uZCr07H8Ul"
      }
    },
    {
      "cell_type": "code",
      "source": [
        "\n",
        "# Select features and target\n",
        "X = df[['bedrooms', 'bathrooms', 'square_feet', 'cityname_encoded',  'state_encoded']]\n",
        "y = df['price']\n",
        "\n",
        "# Split the data\n",
        "X_train, X_test, y_train, y_test = train_test_split(X, y, test_size=0.2, random_state=42)\n",
        "\n",
        "# Scale the features if they arent scaled already.\n",
        "scaler = StandardScaler()\n",
        "X_train_scaled = scaler.fit_transform(X_train)\n",
        "X_test_scaled = scaler.transform(X_test)\n",
        "\n",
        "# Define alpha values to test\n",
        "alphas = [0.001, 0.01, 0.1, 1, 10, 100, 1000, 10000]\n",
        "\n",
        "# Lists to store results\n",
        "mae_test_list, mae_train_list = [], []\n",
        "mse_test_list, mse_train_list = [], []\n",
        "rmse_test_list, rmse_train_list = [], []\n",
        "rmspe_test_list, rmspe_train_list = [], []\n",
        "\n",
        "# Function to calculate RMSPE, as its not in sklearn\n",
        "def rmspe(y_true, y_pred):\n",
        "    return np.sqrt(np.mean(np.square((y_true - y_pred) / y_true))) * 100\n",
        "\n",
        "# Train models and calculate metrics, the metrics are already defined, which differs from pytorch.\n",
        "for alpha in alphas:\n",
        "    # Train the model for ech alpha.\n",
        "    model = Ridge(alpha=alpha)\n",
        "    model.fit(X_train_scaled, y_train)\n",
        "    # Make a prediction based on the fitted model for test and train\n",
        "    y_pred_test = model.predict(X_test_scaled)\n",
        "    y_pred_train = model.predict(X_train_scaled)\n",
        "    # Get the metrics for all the values that were also used in polynomial\n",
        "    mae_test = mean_absolute_error(y_test, y_pred_test)\n",
        "    mae_train = mean_absolute_error(y_train, y_pred_train)\n",
        "    mse_test = mean_squared_error(y_test, y_pred_test)\n",
        "    mse_train = mean_squared_error(y_train, y_pred_train)\n",
        "    rmse_test = np.sqrt(mse_test)\n",
        "    rmse_train = np.sqrt(mse_train)\n",
        "    rmspe_test = rmspe(y_test, y_pred_test)\n",
        "    rmspe_train = rmspe(y_train, y_pred_train)\n",
        "    # Add the values to a list for graphing below.\n",
        "    mae_test_list.append(mae_test)\n",
        "    mae_train_list.append(mae_train)\n",
        "    mse_test_list.append(mse_test)\n",
        "    mse_train_list.append(mse_train)\n",
        "    rmse_test_list.append(rmse_test)\n",
        "    rmse_train_list.append(rmse_train)\n",
        "    rmspe_test_list.append(rmspe_test)\n",
        "    rmspe_train_list.append(rmspe_train)\n",
        "    # Print the results for the metrics for each alpha\n",
        "    print(f\"\\nAlpha: {alpha}\")\n",
        "    print(f\"MAE-TEST: {mae_test:.2f}\")\n",
        "    print(f\"MAE-TRAINING: {mae_train:.2f}\")\n",
        "    print(f\"MSE-TEST: {mse_test:.2f}\")\n",
        "    print(f\"MSE-TRAINING: {mse_train:.2f}\")\n",
        "    print(f\"RMSE-TEST: {rmse_test:.2f}\")\n",
        "    print(f\"RMSE-TRAINING: {rmse_train:.2f}\")\n",
        "    print(f\"RMSPE-TEST: {rmspe_test:.2f}%\")\n",
        "    print(f\"RMSPE-TRAINING: {rmspe_train:.2f}%\")\n",
        "\n",
        "# Plot alpha vs metrics for RMSE and RMSPE\n",
        "plt.figure(figsize=(12, 8))\n",
        "plt.semilogx(alphas, rmse_test_list, 'b-', label='RMSE Test')\n",
        "plt.semilogx(alphas, rmse_train_list, 'r-', label='RMSE Train')\n",
        "plt.xlabel('Alpha')\n",
        "plt.ylabel('RMSE')\n",
        "plt.title('RMSE vs Alpha')\n",
        "plt.legend()\n",
        "plt.grid(True)\n",
        "plt.show()\n",
        "# Plot alpha vs metrics for RMSE and RMSPE\n",
        "plt.figure(figsize=(12, 8))\n",
        "plt.semilogx(alphas, rmspe_test_list, 'b-', label='RMSPE Test')\n",
        "plt.semilogx(alphas, rmspe_train_list, 'r-', label='RMSPE Train')\n",
        "plt.xlabel('Alpha')\n",
        "plt.ylabel('RMSPE (%)')\n",
        "plt.title('RMSPE vs Alpha')\n",
        "plt.legend()\n",
        "plt.grid(True)\n",
        "plt.show()\n",
        "\n"
      ],
      "metadata": {
        "id": "eED5-KCqf1Dl",
        "colab": {
          "base_uri": "https://localhost:8080/",
          "height": 1000
        },
        "outputId": "229da7f6-0a20-4c1c-b888-31694d97c5d4"
      },
      "execution_count": null,
      "outputs": [
        {
          "output_type": "stream",
          "name": "stdout",
          "text": [
            "\n",
            "Alpha: 0.001\n",
            "MAE-TEST: 264.23\n",
            "MAE-TRAINING: 260.41\n",
            "MSE-TEST: 132811.06\n",
            "MSE-TRAINING: 131076.93\n",
            "RMSE-TEST: 364.43\n",
            "RMSE-TRAINING: 362.05\n",
            "RMSPE-TEST: 27.33%\n",
            "RMSPE-TRAINING: 27.43%\n",
            "\n",
            "Alpha: 0.01\n",
            "MAE-TEST: 264.23\n",
            "MAE-TRAINING: 260.41\n",
            "MSE-TEST: 132811.06\n",
            "MSE-TRAINING: 131076.93\n",
            "RMSE-TEST: 364.43\n",
            "RMSE-TRAINING: 362.05\n",
            "RMSPE-TEST: 27.33%\n",
            "RMSPE-TRAINING: 27.43%\n",
            "\n",
            "Alpha: 0.1\n",
            "MAE-TEST: 264.23\n",
            "MAE-TRAINING: 260.41\n",
            "MSE-TEST: 132811.06\n",
            "MSE-TRAINING: 131076.93\n",
            "RMSE-TEST: 364.43\n",
            "RMSE-TRAINING: 362.05\n",
            "RMSPE-TEST: 27.33%\n",
            "RMSPE-TRAINING: 27.43%\n",
            "\n",
            "Alpha: 1\n",
            "MAE-TEST: 264.23\n",
            "MAE-TRAINING: 260.41\n",
            "MSE-TEST: 132811.13\n",
            "MSE-TRAINING: 131076.93\n",
            "RMSE-TEST: 364.43\n",
            "RMSE-TRAINING: 362.05\n",
            "RMSPE-TEST: 27.33%\n",
            "RMSPE-TRAINING: 27.43%\n",
            "\n",
            "Alpha: 10\n",
            "MAE-TEST: 264.23\n",
            "MAE-TRAINING: 260.41\n",
            "MSE-TEST: 132811.79\n",
            "MSE-TRAINING: 131076.93\n",
            "RMSE-TEST: 364.43\n",
            "RMSE-TRAINING: 362.05\n",
            "RMSPE-TEST: 27.33%\n",
            "RMSPE-TRAINING: 27.43%\n",
            "\n",
            "Alpha: 100\n",
            "MAE-TEST: 264.23\n",
            "MAE-TRAINING: 260.40\n",
            "MSE-TEST: 132818.82\n",
            "MSE-TRAINING: 131077.43\n",
            "RMSE-TEST: 364.44\n",
            "RMSE-TRAINING: 362.05\n",
            "RMSPE-TEST: 27.33%\n",
            "RMSPE-TRAINING: 27.43%\n",
            "\n",
            "Alpha: 1000\n",
            "MAE-TEST: 264.24\n",
            "MAE-TRAINING: 260.32\n",
            "MSE-TEST: 132928.63\n",
            "MSE-TRAINING: 131124.19\n",
            "RMSE-TEST: 364.59\n",
            "RMSE-TRAINING: 362.11\n",
            "RMSPE-TEST: 27.33%\n",
            "RMSPE-TRAINING: 27.42%\n",
            "\n",
            "Alpha: 10000\n",
            "MAE-TEST: 266.80\n",
            "MAE-TRAINING: 262.40\n",
            "MSE-TEST: 136333.46\n",
            "MSE-TRAINING: 134060.45\n",
            "RMSE-TEST: 369.23\n",
            "RMSE-TRAINING: 366.14\n",
            "RMSPE-TEST: 27.70%\n",
            "RMSPE-TRAINING: 27.73%\n"
          ]
        },
        {
          "output_type": "display_data",
          "data": {
            "text/plain": [
              "<Figure size 1200x800 with 1 Axes>"
            ],
            "image/png": "[encoded data removed]"
          },
          "metadata": {}
        },
        {
          "output_type": "display_data",
          "data": {
            "text/plain": [
              "<Figure size 1200x800 with 1 Axes>"
            ],
            "image/png": "[encoded data removed]"
          },
          "metadata": {}
        },
        {
          "output_type": "stream",
          "name": "stdout",
          "text": [
            "\n",
            "Best alpha: 0.001\n"
          ]
        }
      ]
    },
    {
      "cell_type": "markdown",
      "source": [
        "As can be seen, an alpha of 1000 gave us the best results of 27,3%. However, results didn't change that much between the 2."
      ],
      "metadata": {
        "id": "Ax5amlYTC7PP"
      }
    },
    {
      "cell_type": "markdown",
      "source": [
        "### Elastic Net"
      ],
      "metadata": {
        "id": "iJjQz2k_YNYx"
      }
    },
    {
      "cell_type": "markdown",
      "source": [
        "We chose Elastic Net as it is a combination of two models we saw in class: lasso(L1) and ridge (L2). Elastic Net uses a combination of L1 and L2 penalties, controlled by two parameters: α, used as a constant to multipy the penalty terms and λ to set the equilibrium between the two penalties. This way, ElasticNet can select relevant variables as Lasso and handlemulticollinearity as Ridge [5][6]."
      ],
      "metadata": {
        "id": "PGrqaG5yZrKd"
      }
    },
    {
      "cell_type": "markdown",
      "source": [
        "We use GridSearchCV approach to find the best fitting hyper-parameters. This method and the following Random Forest method, require the variation of several hyper parameters for proper configuration. As such, we'll only calculate the result for the best hyper parameters it obtains with grid search, as a graph similar to the one done for Polynomial and Ridge wouldn't be possible, as it requires the use of further dimensions."
      ],
      "metadata": {
        "id": "EeIvDG5olGZ6"
      }
    },
    {
      "cell_type": "code",
      "source": [
        "# Select features and target\n",
        "X = df[['bedrooms', 'bathrooms', 'square_feet', 'cityname_encoded',  'state_encoded']]\n",
        "y = df['price']\n",
        "\n",
        "\n",
        "# Split the data into training and testing sets\n",
        "X_train, X_test, y_train, y_test = train_test_split(X, y, test_size=0.2, random_state=42)"
      ],
      "metadata": {
        "id": "UrpbNKyzcX0f"
      },
      "execution_count": null,
      "outputs": []
    },
    {
      "cell_type": "code",
      "source": [
        "from sklearn.linear_model import ElasticNet\n",
        "from sklearn.model_selection import GridSearchCV\n",
        "\n",
        "# Define the model\n",
        "elastic_net = ElasticNet()\n",
        "\n",
        "# Define the hyperparameters and their possible values\n",
        "param_grid = {\n",
        "    'alpha': [0.01, 0.1, 1, 10, 100],\n",
        "    'l1_ratio': [0.1, 0.5, 0.7, 0.9, 1.0]\n",
        "}\n",
        "\n",
        "# Initialize GridSearchCV\n",
        "grid_search = GridSearchCV(estimator=elastic_net, param_grid=param_grid, cv=5, scoring='neg_root_mean_squared_error')\n",
        "\n",
        "# Fit the model\n",
        "grid_search.fit(X_train, y_train)\n",
        "\n",
        "# Best hyperparameters and score\n",
        "print(\"Best Hyperparameters:\", grid_search.best_params_)\n",
        "print(\"Best Score:\", grid_search.best_score_)\n"
      ],
      "metadata": {
        "id": "3zI4CwV6YPp3",
        "colab": {
          "base_uri": "https://localhost:8080/"
        },
        "outputId": "08a6ae7c-d66b-467e-d447-ed5cc9db1cdd"
      },
      "execution_count": null,
      "outputs": [
        {
          "output_type": "stream",
          "name": "stdout",
          "text": [
            "Best Hyperparameters: {'alpha': 0.01, 'l1_ratio': 1.0}\n",
            "Best Score: -362.08560186018065\n"
          ]
        }
      ]
    },
    {
      "cell_type": "markdown",
      "source": [
        "Let's now make predictions for both the trainig and test set."
      ],
      "metadata": {
        "id": "npuQguBLZ5oI"
      }
    },
    {
      "cell_type": "code",
      "source": [
        "# Make predictions on the test set using the best model\n",
        "y_test_pred = grid_search.best_estimator_.predict(X_test)\n",
        "y_train_pred = grid_search.best_estimator_.predict(X_train)"
      ],
      "metadata": {
        "id": "2kFlbszZZmxN"
      },
      "execution_count": null,
      "outputs": []
    },
    {
      "cell_type": "markdown",
      "source": [
        "Agregate Metrics of the result of the model"
      ],
      "metadata": {
        "id": "VMFghlJCaC_h"
      }
    },
    {
      "cell_type": "code",
      "source": [
        "# Calculate metrics\n",
        "def calculate_metrics(y_true, y_pred):\n",
        "    mae = np.mean(np.abs(y_true - y_pred))\n",
        "    mse = np.mean((y_true - y_pred)**2)\n",
        "    rmse = np.sqrt(mse)\n",
        "    rmspe = np.sqrt(np.mean(((y_true - y_pred) / y_true)**2)) * 100\n",
        "    return mae, mse, rmse, rmspe\n",
        "\n",
        "# Calculate metrics for test set\n",
        "mae_test, mse_test, rmse_test, rmspe_test = calculate_metrics(y_test, y_test_pred)\n",
        "\n",
        "# Calculate metrics for training set\n",
        "mae_train, mse_train, rmse_train, rmspe_train = calculate_metrics(y_train, y_train_pred)\n",
        "\n",
        "print(f\"MAE-TEST: {mae_test:.2f}\")\n",
        "print(f\"MAE-TRAINING: {mae_train:.2f}\")\n",
        "print(f\"MSE-TEST: {mse_test:.2f}\")\n",
        "print(f\"MSE-TRAINING: {mse_train:.2f}\")\n",
        "print(f\"RMSE-TEST: {rmse_test:.2f}\")\n",
        "print(f\"RMSE-TRAINING: {rmse_train:.2f}\")\n",
        "print(f\"RMSPE-TEST: {rmspe_test:.2f}%\")\n",
        "print(f\"RMSPE-TRAINING: {rmspe_train:.2f}%\")"
      ],
      "metadata": {
        "id": "YdJRh2QiaBdw",
        "colab": {
          "base_uri": "https://localhost:8080/"
        },
        "outputId": "10bd7189-b003-4fff-b5ea-a74de0bb6609"
      },
      "execution_count": null,
      "outputs": [
        {
          "output_type": "stream",
          "name": "stdout",
          "text": [
            "MAE-TEST: 264.23\n",
            "MAE-TRAINING: 260.41\n",
            "MSE-TEST: 132811.00\n",
            "MSE-TRAINING: 131076.93\n",
            "RMSE-TEST: 364.43\n",
            "RMSE-TRAINING: 362.05\n",
            "RMSPE-TEST: 27.33%\n",
            "RMSPE-TRAINING: 27.43%\n"
          ]
        }
      ]
    },
    {
      "cell_type": "markdown",
      "source": [
        "### Random Forest Regressor\n"
      ],
      "metadata": {
        "id": "MC9uCAZ8jvo_"
      }
    },
    {
      "cell_type": "markdown",
      "source": [
        "Continue with the metods that were discuseed in the class, we decided to use a Random Forest regressor. This is implemented below:"
      ],
      "metadata": {
        "id": "QyTZsHsNk6At"
      }
    },
    {
      "cell_type": "code",
      "source": [
        "from sklearn.ensemble import RandomForestRegressor\n",
        "from sklearn.model_selection import GridSearchCV, RandomizedSearchCV\n",
        "from sklearn.metrics import mean_squared_error\n",
        "\n",
        "# Define rf as Random Forest for regression\n",
        "rf = RandomForestRegressor()\n",
        "\n",
        "# Select features and target\n",
        "X = df[['bedrooms', 'bathrooms', 'square_feet', 'cityname_encoded',  'state_encoded']]\n",
        "y = df['price']\n",
        "\n",
        "\n",
        "# Split the data into training and testing sets (based on 80/20 --> training/test)\n",
        "X_train, X_test, y_train, y_test = train_test_split(X, y, test_size=0.2, random_state=42)\n",
        "\n",
        "#For Grid Search with all the hyper parameters\n",
        "# param_grid = {\n",
        "#     'n_estimators': [100, 200, 300],\n",
        "#     'max_features': ['sqrt', 'log2'],\n",
        "#     'max_depth': [None, 10, 20, 30],\n",
        "#     'min_samples_split': [2, 5, 10],\n",
        "#     'min_samples_leaf': [1, 2, 4],\n",
        "#     'bootstrap': [True, False]\n",
        "# }\n",
        "\n",
        "# Best parameters selected from previous execution\n",
        "param_grid = {\n",
        "    'n_estimators': [300],\n",
        "    'max_features': ['log2'],\n",
        "    'max_depth': [20],\n",
        "    'min_samples_split': [5],\n",
        "    'min_samples_leaf': [1],\n",
        "    'bootstrap': [True]\n",
        "}\n",
        "\n",
        "\n",
        "# Using Grid Search\n",
        "grid_search = GridSearchCV(estimator=rf, param_grid=param_grid, cv=3, n_jobs=-1, verbose=2)\n",
        "grid_search.fit(X_train, y_train)\n",
        "\n",
        "# Best parameters definition and print\n",
        "best_grid = grid_search.best_estimator_\n",
        "grid_predictions = best_grid.predict(X_test)\n",
        "print(f\"Grid Search Best Parameters: {grid_search.best_params_}\")\n",
        "print(f\"Grid Search Mean Squared Error: {mean_squared_error(y_test, grid_predictions)}\")"
      ],
      "metadata": {
        "id": "WaTcrvDWjys9",
        "colab": {
          "base_uri": "https://localhost:8080/"
        },
        "outputId": "8341f20a-28cd-496f-8090-27d3f5192b79"
      },
      "execution_count": null,
      "outputs": [
        {
          "output_type": "stream",
          "name": "stdout",
          "text": [
            "Fitting 3 folds for each of 1 candidates, totalling 3 fits\n",
            "Grid Search Best Parameters: {'bootstrap': True, 'max_depth': 20, 'max_features': 'log2', 'min_samples_leaf': 1, 'min_samples_split': 5, 'n_estimators': 300}\n",
            "Grid Search Mean Squared Error: 76564.71457179413\n"
          ]
        }
      ]
    },
    {
      "cell_type": "markdown",
      "source": [
        "After getting best model is time to make the predictions using the test/train set:"
      ],
      "metadata": {
        "id": "89dzIn8Mde3l"
      }
    },
    {
      "cell_type": "code",
      "source": [
        "# Predictions on the test/train set using the best model\n",
        "y_test_pred = grid_search.best_estimator_.predict(X_test)\n",
        "y_train_pred = grid_search.best_estimator_.predict(X_train)"
      ],
      "metadata": {
        "id": "thBugB-uyiGx"
      },
      "execution_count": null,
      "outputs": []
    },
    {
      "cell_type": "markdown",
      "source": [
        "Then, we just calculate the metrics to evaluate the model selected"
      ],
      "metadata": {
        "id": "JAnYs96rgSKO"
      }
    },
    {
      "cell_type": "code",
      "source": [
        "# Function to calculate metrics of the model\n",
        "def calculate_metrics(y_true, y_pred):\n",
        "    mae = np.mean(np.abs(y_true - y_pred))\n",
        "    mse = np.mean((y_true - y_pred)**2)\n",
        "    rmse = np.sqrt(mse)\n",
        "    rmspe = np.sqrt(np.mean(((y_true - y_pred) / y_true)**2)) * 100\n",
        "    return mae, mse, rmse, rmspe\n",
        "\n",
        "# Calculate metrics for test set\n",
        "mae_test, mse_test, rmse_test, rmspe_test = calculate_metrics(y_test, y_test_pred)\n",
        "\n",
        "# Calculate metrics for training set\n",
        "mae_train, mse_train, rmse_train, rmspe_train = calculate_metrics(y_train, y_train_pred)\n",
        "\n",
        "# Show the result of the metrics\n",
        "print(f\"MAE-TEST: {mae_test:.2f}\")\n",
        "print(f\"MAE-TRAINING: {mae_train:.2f}\")\n",
        "print(f\"MSE-TEST: {mse_test:.2f}\")\n",
        "print(f\"MSE-TRAINING: {mse_train:.2f}\")\n",
        "print(f\"RMSE-TEST: {rmse_test:.2f}\")\n",
        "print(f\"RMSE-TRAINING: {rmse_train:.2f}\")\n",
        "print(f\"RMSPE-TEST: {rmspe_test:.2f}%\")\n",
        "print(f\"RMSPE-TRAINING: {rmspe_train:.2f}%\")"
      ],
      "metadata": {
        "id": "HmlUdY3wyk3U",
        "colab": {
          "base_uri": "https://localhost:8080/"
        },
        "outputId": "bb6be98a-4cff-4202-92b5-2f9e7a666303"
      },
      "execution_count": null,
      "outputs": [
        {
          "output_type": "stream",
          "name": "stdout",
          "text": [
            "MAE-TEST: 180.06\n",
            "MAE-TRAINING: 126.91\n",
            "MSE-TEST: 76564.71\n",
            "MSE-TRAINING: 36317.42\n",
            "RMSE-TEST: 276.70\n",
            "RMSE-TRAINING: 190.57\n",
            "RMSPE-TEST: 20.17%\n",
            "RMSPE-TRAINING: 14.04%\n"
          ]
        }
      ]
    },
    {
      "cell_type": "markdown",
      "source": [
        "### Bonus: XGboost"
      ],
      "metadata": {
        "id": "hUYB-YY5AoKw"
      }
    },
    {
      "cell_type": "markdown",
      "source": [
        "XGBoost (Extreme Gradient Boosting) is an machine learning algorithm user for regression and clasification. It works by applying the \"boosting\" technique, where multiple decision trees are trained sequencially. On each iteration, XGBoosts adjusts a new tree and tries to fix the errors in previous trees [1][7].\n"
      ],
      "metadata": {
        "id": "CCZtHEppaGKS"
      }
    },
    {
      "cell_type": "code",
      "source": [
        "import xgboost as xgb\n",
        "\n",
        "X = df[['bedrooms', 'bathrooms', 'square_feet', 'cityname_encoded',  'state_encoded']]\n",
        "y = df['price']\n",
        "\n",
        "# Split the data into training and testing sets\n",
        "X_train, X_test, y_train, y_test = train_test_split(X, y, test_size=0.2, random_state=42)\n",
        "\n",
        "regressor=xgb.XGBRegressor(eval_metric='rmsle')\n",
        "\n",
        "from sklearn.model_selection import GridSearchCV\n",
        "\n",
        "# set up our search grid\n",
        "param_grid = {\"max_depth\":    [4, 5, 6],\n",
        "              \"n_estimators\": [500, 600, 700],\n",
        "              \"learning_rate\": [0.01, 0.015]}\n",
        "\n",
        "# try out every combination of the above values\n",
        "search = GridSearchCV(regressor, param_grid, cv=5).fit(X_train, y_train)\n",
        "\n",
        "print(\"The best hyperparameters are \",search.best_params_)"
      ],
      "metadata": {
        "id": "IUu8kdkkaJk8",
        "colab": {
          "base_uri": "https://localhost:8080/"
        },
        "outputId": "d3a26910-ae4b-4a66-d455-69f61478d57b"
      },
      "execution_count": null,
      "outputs": [
        {
          "output_type": "stream",
          "name": "stdout",
          "text": [
            "The best hyperparameters are  {'learning_rate': 0.015, 'max_depth': 6, 'n_estimators': 700}\n"
          ]
        }
      ]
    },
    {
      "cell_type": "code",
      "source": [
        "regressor=xgb.XGBRegressor(learning_rate = search.best_params_[\"learning_rate\"],\n",
        "                           n_estimators  = search.best_params_[\"n_estimators\"],\n",
        "                           max_depth     = search.best_params_[\"max_depth\"],\n",
        "                           eval_metric='rmsle')\n",
        "\n",
        "regressor.fit(X_train, y_train)"
      ],
      "metadata": {
        "id": "ZewVOZdKaPol",
        "colab": {
          "base_uri": "https://localhost:8080/",
          "height": 254
        },
        "outputId": "ec0b0720-de70-49b7-87b2-907f9a2fec6e"
      },
      "execution_count": null,
      "outputs": [
        {
          "output_type": "execute_result",
          "data": {
            "text/plain": [
              "XGBRegressor(base_score=None, booster=None, callbacks=None,\n",
              "             colsample_bylevel=None, colsample_bynode=None,\n",
              "             colsample_bytree=None, device=None, early_stopping_rounds=None,\n",
              "             enable_categorical=False, eval_metric='rmsle', feature_types=None,\n",
              "             gamma=None, grow_policy=None, importance_type=None,\n",
              "             interaction_constraints=None, learning_rate=0.015, max_bin=None,\n",
              "             max_cat_threshold=None, max_cat_to_onehot=None,\n",
              "             max_delta_step=None, max_depth=6, max_leaves=None,\n",
              "             min_child_weight=None, missing=nan, monotone_constraints=None,\n",
              "             multi_strategy=None, n_estimators=700, n_jobs=None,\n",
              "             num_parallel_tree=None, random_state=None, ...)"
            ],
            "text/html": [
              "<style>#sk-container-id-1 {\n",
              "  /* Definition of color scheme common for light and dark mode */\n",
              "  --sklearn-color-text: black;\n",
              "  --sklearn-color-line: gray;\n",
              "  /* Definition of color scheme for unfitted estimators */\n",
              "  --sklearn-color-unfitted-level-0: #fff5e6;\n",
              "  --sklearn-color-unfitted-level-1: #f6e4d2;\n",
              "  --sklearn-color-unfitted-level-2: #ffe0b3;\n",
              "  --sklearn-color-unfitted-level-3: chocolate;\n",
              "  /* Definition of color scheme for fitted estimators */\n",
              "  --sklearn-color-fitted-level-0: #f0f8ff;\n",
              "  --sklearn-color-fitted-level-1: #d4ebff;\n",
              "  --sklearn-color-fitted-level-2: #b3dbfd;\n",
              "  --sklearn-color-fitted-level-3: cornflowerblue;\n",
              "\n",
              "  /* Specific color for light theme */\n",
              "  --sklearn-color-text-on-default-background: var(--sg-text-color, var(--theme-code-foreground, var(--jp-content-font-color1, black)));\n",
              "  --sklearn-color-background: var(--sg-background-color, var(--theme-background, var(--jp-layout-color0, white)));\n",
              "  --sklearn-color-border-box: var(--sg-text-color, var(--theme-code-foreground, var(--jp-content-font-color1, black)));\n",
              "  --sklearn-color-icon: #696969;\n",
              "\n",
              "  @media (prefers-color-scheme: dark) {\n",
              "    /* Redefinition of color scheme for dark theme */\n",
              "    --sklearn-color-text-on-default-background: var(--sg-text-color, var(--theme-code-foreground, var(--jp-content-font-color1, white)));\n",
              "    --sklearn-color-background: var(--sg-background-color, var(--theme-background, var(--jp-layout-color0, #111)));\n",
              "    --sklearn-color-border-box: var(--sg-text-color, var(--theme-code-foreground, var(--jp-content-font-color1, white)));\n",
              "    --sklearn-color-icon: #878787;\n",
              "  }\n",
              "}\n",
              "\n",
              "#sk-container-id-1 {\n",
              "  color: var(--sklearn-color-text);\n",
              "}\n",
              "\n",
              "#sk-container-id-1 pre {\n",
              "  padding: 0;\n",
              "}\n",
              "\n",
              "#sk-container-id-1 input.sk-hidden--visually {\n",
              "  border: 0;\n",
              "  clip: rect(1px 1px 1px 1px);\n",
              "  clip: rect(1px, 1px, 1px, 1px);\n",
              "  height: 1px;\n",
              "  margin: -1px;\n",
              "  overflow: hidden;\n",
              "  padding: 0;\n",
              "  position: absolute;\n",
              "  width: 1px;\n",
              "}\n",
              "\n",
              "#sk-container-id-1 div.sk-dashed-wrapped {\n",
              "  border: 1px dashed var(--sklearn-color-line);\n",
              "  margin: 0 0.4em 0.5em 0.4em;\n",
              "  box-sizing: border-box;\n",
              "  padding-bottom: 0.4em;\n",
              "  background-color: var(--sklearn-color-background);\n",
              "}\n",
              "\n",
              "#sk-container-id-1 div.sk-container {\n",
              "  /* jupyter's `normalize.less` sets `[hidden] { display: none; }`\n",
              "     but bootstrap.min.css set `[hidden] { display: none !important; }`\n",
              "     so we also need the `!important` here to be able to override the\n",
              "     default hidden behavior on the sphinx rendered scikit-learn.org.\n",
              "     See: https://github.com/scikit-learn/scikit-learn/issues/21755 */\n",
              "  display: inline-block !important;\n",
              "  position: relative;\n",
              "}\n",
              "\n",
              "#sk-container-id-1 div.sk-text-repr-fallback {\n",
              "  display: none;\n",
              "}\n",
              "\n",
              "div.sk-parallel-item,\n",
              "div.sk-serial,\n",
              "div.sk-item {\n",
              "  /* draw centered vertical line to link estimators */\n",
              "  background-image: linear-gradient(var(--sklearn-color-text-on-default-background), var(--sklearn-color-text-on-default-background));\n",
              "  background-size: 2px 100%;\n",
              "  background-repeat: no-repeat;\n",
              "  background-position: center center;\n",
              "}\n",
              "\n",
              "/* Parallel-specific style estimator block */\n",
              "\n",
              "#sk-container-id-1 div.sk-parallel-item::after {\n",
              "  content: \"\";\n",
              "  width: 100%;\n",
              "  border-bottom: 2px solid var(--sklearn-color-text-on-default-background);\n",
              "  flex-grow: 1;\n",
              "}\n",
              "\n",
              "#sk-container-id-1 div.sk-parallel {\n",
              "  display: flex;\n",
              "  align-items: stretch;\n",
              "  justify-content: center;\n",
              "  background-color: var(--sklearn-color-background);\n",
              "  position: relative;\n",
              "}\n",
              "\n",
              "#sk-container-id-1 div.sk-parallel-item {\n",
              "  display: flex;\n",
              "  flex-direction: column;\n",
              "}\n",
              "\n",
              "#sk-container-id-1 div.sk-parallel-item:first-child::after {\n",
              "  align-self: flex-end;\n",
              "  width: 50%;\n",
              "}\n",
              "\n",
              "#sk-container-id-1 div.sk-parallel-item:last-child::after {\n",
              "  align-self: flex-start;\n",
              "  width: 50%;\n",
              "}\n",
              "\n",
              "#sk-container-id-1 div.sk-parallel-item:only-child::after {\n",
              "  width: 0;\n",
              "}\n",
              "\n",
              "/* Serial-specific style estimator block */\n",
              "\n",
              "#sk-container-id-1 div.sk-serial {\n",
              "  display: flex;\n",
              "  flex-direction: column;\n",
              "  align-items: center;\n",
              "  background-color: var(--sklearn-color-background);\n",
              "  padding-right: 1em;\n",
              "  padding-left: 1em;\n",
              "}\n",
              "\n",
              "\n",
              "/* Toggleable style: style used for estimator/Pipeline/ColumnTransformer box that is\n",
              "clickable and can be expanded/collapsed.\n",
              "- Pipeline and ColumnTransformer use this feature and define the default style\n",
              "- Estimators will overwrite some part of the style using the `sk-estimator` class\n",
              "*/\n",
              "\n",
              "/* Pipeline and ColumnTransformer style (default) */\n",
              "\n",
              "#sk-container-id-1 div.sk-toggleable {\n",
              "  /* Default theme specific background. It is overwritten whether we have a\n",
              "  specific estimator or a Pipeline/ColumnTransformer */\n",
              "  background-color: var(--sklearn-color-background);\n",
              "}\n",
              "\n",
              "/* Toggleable label */\n",
              "#sk-container-id-1 label.sk-toggleable__label {\n",
              "  cursor: pointer;\n",
              "  display: block;\n",
              "  width: 100%;\n",
              "  margin-bottom: 0;\n",
              "  padding: 0.5em;\n",
              "  box-sizing: border-box;\n",
              "  text-align: center;\n",
              "}\n",
              "\n",
              "#sk-container-id-1 label.sk-toggleable__label-arrow:before {\n",
              "  /* Arrow on the left of the label */\n",
              "  content: \"▸\";\n",
              "  float: left;\n",
              "  margin-right: 0.25em;\n",
              "  color: var(--sklearn-color-icon);\n",
              "}\n",
              "\n",
              "#sk-container-id-1 label.sk-toggleable__label-arrow:hover:before {\n",
              "  color: var(--sklearn-color-text);\n",
              "}\n",
              "\n",
              "/* Toggleable content - dropdown */\n",
              "\n",
              "#sk-container-id-1 div.sk-toggleable__content {\n",
              "  max-height: 0;\n",
              "  max-width: 0;\n",
              "  overflow: hidden;\n",
              "  text-align: left;\n",
              "  /* unfitted */\n",
              "  background-color: var(--sklearn-color-unfitted-level-0);\n",
              "}\n",
              "\n",
              "#sk-container-id-1 div.sk-toggleable__content.fitted {\n",
              "  /* fitted */\n",
              "  background-color: var(--sklearn-color-fitted-level-0);\n",
              "}\n",
              "\n",
              "#sk-container-id-1 div.sk-toggleable__content pre {\n",
              "  margin: 0.2em;\n",
              "  border-radius: 0.25em;\n",
              "  color: var(--sklearn-color-text);\n",
              "  /* unfitted */\n",
              "  background-color: var(--sklearn-color-unfitted-level-0);\n",
              "}\n",
              "\n",
              "#sk-container-id-1 div.sk-toggleable__content.fitted pre {\n",
              "  /* unfitted */\n",
              "  background-color: var(--sklearn-color-fitted-level-0);\n",
              "}\n",
              "\n",
              "#sk-container-id-1 input.sk-toggleable__control:checked~div.sk-toggleable__content {\n",
              "  /* Expand drop-down */\n",
              "  max-height: 200px;\n",
              "  max-width: 100%;\n",
              "  overflow: auto;\n",
              "}\n",
              "\n",
              "#sk-container-id-1 input.sk-toggleable__control:checked~label.sk-toggleable__label-arrow:before {\n",
              "  content: \"▾\";\n",
              "}\n",
              "\n",
              "/* Pipeline/ColumnTransformer-specific style */\n",
              "\n",
              "#sk-container-id-1 div.sk-label input.sk-toggleable__control:checked~label.sk-toggleable__label {\n",
              "  color: var(--sklearn-color-text);\n",
              "  background-color: var(--sklearn-color-unfitted-level-2);\n",
              "}\n",
              "\n",
              "#sk-container-id-1 div.sk-label.fitted input.sk-toggleable__control:checked~label.sk-toggleable__label {\n",
              "  background-color: var(--sklearn-color-fitted-level-2);\n",
              "}\n",
              "\n",
              "/* Estimator-specific style */\n",
              "\n",
              "/* Colorize estimator box */\n",
              "#sk-container-id-1 div.sk-estimator input.sk-toggleable__control:checked~label.sk-toggleable__label {\n",
              "  /* unfitted */\n",
              "  background-color: var(--sklearn-color-unfitted-level-2);\n",
              "}\n",
              "\n",
              "#sk-container-id-1 div.sk-estimator.fitted input.sk-toggleable__control:checked~label.sk-toggleable__label {\n",
              "  /* fitted */\n",
              "  background-color: var(--sklearn-color-fitted-level-2);\n",
              "}\n",
              "\n",
              "#sk-container-id-1 div.sk-label label.sk-toggleable__label,\n",
              "#sk-container-id-1 div.sk-label label {\n",
              "  /* The background is the default theme color */\n",
              "  color: var(--sklearn-color-text-on-default-background);\n",
              "}\n",
              "\n",
              "/* On hover, darken the color of the background */\n",
              "#sk-container-id-1 div.sk-label:hover label.sk-toggleable__label {\n",
              "  color: var(--sklearn-color-text);\n",
              "  background-color: var(--sklearn-color-unfitted-level-2);\n",
              "}\n",
              "\n",
              "/* Label box, darken color on hover, fitted */\n",
              "#sk-container-id-1 div.sk-label.fitted:hover label.sk-toggleable__label.fitted {\n",
              "  color: var(--sklearn-color-text);\n",
              "  background-color: var(--sklearn-color-fitted-level-2);\n",
              "}\n",
              "\n",
              "/* Estimator label */\n",
              "\n",
              "#sk-container-id-1 div.sk-label label {\n",
              "  font-family: monospace;\n",
              "  font-weight: bold;\n",
              "  display: inline-block;\n",
              "  line-height: 1.2em;\n",
              "}\n",
              "\n",
              "#sk-container-id-1 div.sk-label-container {\n",
              "  text-align: center;\n",
              "}\n",
              "\n",
              "/* Estimator-specific */\n",
              "#sk-container-id-1 div.sk-estimator {\n",
              "  font-family: monospace;\n",
              "  border: 1px dotted var(--sklearn-color-border-box);\n",
              "  border-radius: 0.25em;\n",
              "  box-sizing: border-box;\n",
              "  margin-bottom: 0.5em;\n",
              "  /* unfitted */\n",
              "  background-color: var(--sklearn-color-unfitted-level-0);\n",
              "}\n",
              "\n",
              "#sk-container-id-1 div.sk-estimator.fitted {\n",
              "  /* fitted */\n",
              "  background-color: var(--sklearn-color-fitted-level-0);\n",
              "}\n",
              "\n",
              "/* on hover */\n",
              "#sk-container-id-1 div.sk-estimator:hover {\n",
              "  /* unfitted */\n",
              "  background-color: var(--sklearn-color-unfitted-level-2);\n",
              "}\n",
              "\n",
              "#sk-container-id-1 div.sk-estimator.fitted:hover {\n",
              "  /* fitted */\n",
              "  background-color: var(--sklearn-color-fitted-level-2);\n",
              "}\n",
              "\n",
              "/* Specification for estimator info (e.g. \"i\" and \"?\") */\n",
              "\n",
              "/* Common style for \"i\" and \"?\" */\n",
              "\n",
              ".sk-estimator-doc-link,\n",
              "a:link.sk-estimator-doc-link,\n",
              "a:visited.sk-estimator-doc-link {\n",
              "  float: right;\n",
              "  font-size: smaller;\n",
              "  line-height: 1em;\n",
              "  font-family: monospace;\n",
              "  background-color: var(--sklearn-color-background);\n",
              "  border-radius: 1em;\n",
              "  height: 1em;\n",
              "  width: 1em;\n",
              "  text-decoration: none !important;\n",
              "  margin-left: 1ex;\n",
              "  /* unfitted */\n",
              "  border: var(--sklearn-color-unfitted-level-1) 1pt solid;\n",
              "  color: var(--sklearn-color-unfitted-level-1);\n",
              "}\n",
              "\n",
              ".sk-estimator-doc-link.fitted,\n",
              "a:link.sk-estimator-doc-link.fitted,\n",
              "a:visited.sk-estimator-doc-link.fitted {\n",
              "  /* fitted */\n",
              "  border: var(--sklearn-color-fitted-level-1) 1pt solid;\n",
              "  color: var(--sklearn-color-fitted-level-1);\n",
              "}\n",
              "\n",
              "/* On hover */\n",
              "div.sk-estimator:hover .sk-estimator-doc-link:hover,\n",
              ".sk-estimator-doc-link:hover,\n",
              "div.sk-label-container:hover .sk-estimator-doc-link:hover,\n",
              ".sk-estimator-doc-link:hover {\n",
              "  /* unfitted */\n",
              "  background-color: var(--sklearn-color-unfitted-level-3);\n",
              "  color: var(--sklearn-color-background);\n",
              "  text-decoration: none;\n",
              "}\n",
              "\n",
              "div.sk-estimator.fitted:hover .sk-estimator-doc-link.fitted:hover,\n",
              ".sk-estimator-doc-link.fitted:hover,\n",
              "div.sk-label-container:hover .sk-estimator-doc-link.fitted:hover,\n",
              ".sk-estimator-doc-link.fitted:hover {\n",
              "  /* fitted */\n",
              "  background-color: var(--sklearn-color-fitted-level-3);\n",
              "  color: var(--sklearn-color-background);\n",
              "  text-decoration: none;\n",
              "}\n",
              "\n",
              "/* Span, style for the box shown on hovering the info icon */\n",
              ".sk-estimator-doc-link span {\n",
              "  display: none;\n",
              "  z-index: 9999;\n",
              "  position: relative;\n",
              "  font-weight: normal;\n",
              "  right: .2ex;\n",
              "  padding: .5ex;\n",
              "  margin: .5ex;\n",
              "  width: min-content;\n",
              "  min-width: 20ex;\n",
              "  max-width: 50ex;\n",
              "  color: var(--sklearn-color-text);\n",
              "  box-shadow: 2pt 2pt 4pt #999;\n",
              "  /* unfitted */\n",
              "  background: var(--sklearn-color-unfitted-level-0);\n",
              "  border: .5pt solid var(--sklearn-color-unfitted-level-3);\n",
              "}\n",
              "\n",
              ".sk-estimator-doc-link.fitted span {\n",
              "  /* fitted */\n",
              "  background: var(--sklearn-color-fitted-level-0);\n",
              "  border: var(--sklearn-color-fitted-level-3);\n",
              "}\n",
              "\n",
              ".sk-estimator-doc-link:hover span {\n",
              "  display: block;\n",
              "}\n",
              "\n",
              "/* \"?\"-specific style due to the `<a>` HTML tag */\n",
              "\n",
              "#sk-container-id-1 a.estimator_doc_link {\n",
              "  float: right;\n",
              "  font-size: 1rem;\n",
              "  line-height: 1em;\n",
              "  font-family: monospace;\n",
              "  background-color: var(--sklearn-color-background);\n",
              "  border-radius: 1rem;\n",
              "  height: 1rem;\n",
              "  width: 1rem;\n",
              "  text-decoration: none;\n",
              "  /* unfitted */\n",
              "  color: var(--sklearn-color-unfitted-level-1);\n",
              "  border: var(--sklearn-color-unfitted-level-1) 1pt solid;\n",
              "}\n",
              "\n",
              "#sk-container-id-1 a.estimator_doc_link.fitted {\n",
              "  /* fitted */\n",
              "  border: var(--sklearn-color-fitted-level-1) 1pt solid;\n",
              "  color: var(--sklearn-color-fitted-level-1);\n",
              "}\n",
              "\n",
              "/* On hover */\n",
              "#sk-container-id-1 a.estimator_doc_link:hover {\n",
              "  /* unfitted */\n",
              "  background-color: var(--sklearn-color-unfitted-level-3);\n",
              "  color: var(--sklearn-color-background);\n",
              "  text-decoration: none;\n",
              "}\n",
              "\n",
              "#sk-container-id-1 a.estimator_doc_link.fitted:hover {\n",
              "  /* fitted */\n",
              "  background-color: var(--sklearn-color-fitted-level-3);\n",
              "}\n",
              "</style><div id=\"sk-container-id-1\" class=\"sk-top-container\"><div class=\"sk-text-repr-fallback\"><pre>XGBRegressor(base_score=None, booster=None, callbacks=None,\n",
              "             colsample_bylevel=None, colsample_bynode=None,\n",
              "             colsample_bytree=None, device=None, early_stopping_rounds=None,\n",
              "             enable_categorical=False, eval_metric=&#x27;rmsle&#x27;, feature_types=None,\n",
              "             gamma=None, grow_policy=None, importance_type=None,\n",
              "             interaction_constraints=None, learning_rate=0.015, max_bin=None,\n",
              "             max_cat_threshold=None, max_cat_to_onehot=None,\n",
              "             max_delta_step=None, max_depth=6, max_leaves=None,\n",
              "             min_child_weight=None, missing=nan, monotone_constraints=None,\n",
              "             multi_strategy=None, n_estimators=700, n_jobs=None,\n",
              "             num_parallel_tree=None, random_state=None, ...)</pre><b>In a Jupyter environment, please rerun this cell to show the HTML representation or trust the notebook. <br />On GitHub, the HTML representation is unable to render, please try loading this page with nbviewer.org.</b></div><div class=\"sk-container\" hidden><div class=\"sk-item\"><div class=\"sk-estimator fitted sk-toggleable\"><input class=\"sk-toggleable__control sk-hidden--visually\" id=\"sk-estimator-id-1\" type=\"checkbox\" checked><label for=\"sk-estimator-id-1\" class=\"sk-toggleable__label fitted sk-toggleable__label-arrow fitted\">&nbsp;XGBRegressor<span class=\"sk-estimator-doc-link fitted\">i<span>Fitted</span></span></label><div class=\"sk-toggleable__content fitted\"><pre>XGBRegressor(base_score=None, booster=None, callbacks=None,\n",
              "             colsample_bylevel=None, colsample_bynode=None,\n",
              "             colsample_bytree=None, device=None, early_stopping_rounds=None,\n",
              "             enable_categorical=False, eval_metric=&#x27;rmsle&#x27;, feature_types=None,\n",
              "             gamma=None, grow_policy=None, importance_type=None,\n",
              "             interaction_constraints=None, learning_rate=0.015, max_bin=None,\n",
              "             max_cat_threshold=None, max_cat_to_onehot=None,\n",
              "             max_delta_step=None, max_depth=6, max_leaves=None,\n",
              "             min_child_weight=None, missing=nan, monotone_constraints=None,\n",
              "             multi_strategy=None, n_estimators=700, n_jobs=None,\n",
              "             num_parallel_tree=None, random_state=None, ...)</pre></div> </div></div></div></div>"
            ]
          },
          "metadata": {},
          "execution_count": 31
        }
      ]
    },
    {
      "cell_type": "code",
      "source": [
        "y_test_pred = regressor.predict(X_test)\n",
        "y_train_pred = regressor.predict(X_train)"
      ],
      "metadata": {
        "id": "KYLLzmIlaSJm"
      },
      "execution_count": null,
      "outputs": []
    },
    {
      "cell_type": "code",
      "source": [
        "# Calculate metrics\n",
        "def calculate_metrics(y_true, y_pred):\n",
        "    mae = np.mean(np.abs(y_true - y_pred))\n",
        "    mse = np.mean((y_true - y_pred)**2)\n",
        "    rmse = np.sqrt(mse)\n",
        "    rmspe = np.sqrt(np.mean(((y_true - y_pred) / y_true)**2)) * 100\n",
        "    return mae, mse, rmse, rmspe\n",
        "\n",
        "# Calculate metrics for test set\n",
        "mae_test, mse_test, rmse_test, rmspe_test = calculate_metrics(y_test, y_test_pred)\n",
        "\n",
        "# Calculate metrics for training set\n",
        "mae_train, mse_train, rmse_train, rmspe_train = calculate_metrics(y_train, y_train_pred)\n",
        "\n",
        "print(f\"MAE-TEST: {mae_test:.2f}\")\n",
        "print(f\"MAE-TRAINING: {mae_train:.2f}\")\n",
        "print(f\"MSE-TEST: {mse_test:.2f}\")\n",
        "print(f\"MSE-TRAINING: {mse_train:.2f}\")\n",
        "print(f\"RMSE-TEST: {rmse_test:.2f}\")\n",
        "print(f\"RMSE-TRAINING: {rmse_train:.2f}\")\n",
        "print(f\"RMSPE-TEST: {rmspe_test:.2f}%\")\n",
        "print(f\"RMSPE-TRAINING: {rmspe_train:.2f}%\")"
      ],
      "metadata": {
        "id": "fjL4lCufaUg4",
        "colab": {
          "base_uri": "https://localhost:8080/"
        },
        "outputId": "be6cdcfd-f743-4b5e-a4ac-deb16e894217"
      },
      "execution_count": null,
      "outputs": [
        {
          "output_type": "stream",
          "name": "stdout",
          "text": [
            "MAE-TEST: 223.07\n",
            "MAE-TRAINING: 215.12\n",
            "MSE-TEST: 98095.17\n",
            "MSE-TRAINING: 90866.46\n",
            "RMSE-TEST: 313.20\n",
            "RMSE-TRAINING: 301.44\n",
            "RMSPE-TEST: 22.60%\n",
            "RMSPE-TRAINING: 22.03%\n"
          ]
        }
      ]
    },
    {
      "cell_type": "markdown",
      "source": [
        "## Result Analysis\n",
        "\n",
        "In order to understand the differences each model can provide in terms of results, a table has bee compiled for all the metrics used and each model's result."
      ],
      "metadata": {
        "id": "kD4jjEcsKKKV"
      }
    },
    {
      "cell_type": "markdown",
      "source": [
        "![image.png](data:image/png;base64,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)"
      ],
      "metadata": {
        "id": "U2EDnCZDKae2"
      }
    },
    {
      "cell_type": "markdown",
      "source": [
        "As can be seen in the previous table, the best result across the board was Random Forest. Then, gradient boosting, followed by polynomial and finally, Ridge and Elastic net produced almost identical results.\n",
        "\n",
        "First, Random Forest being the first is intuitive upon first glance, as it has the highest number of hyper parameters to vary compared to Poly (1), ridge (1), Elastic Net (2) and Gradient Boosting (3). These were varied using grid search. By tuning a higher number of parameters, we can more finely adjust the results. Comparatively, however, this caused the greatest disparity between training and test, which means it's more overfitted than the other models. It's still the best model however, as it has the greatest accuracy in the TEST function, even considering the overfitting compared to its training set.\n",
        "\n",
        "Due to its use of several randomly constructed trees and averaging out the result, as explained in the material for this course, Random Forest is more resilient to outliers and nonlinear data relationships, like the ones we outlined during feature selection. It also handles high dimensional data well, which explains why using 5 columns, and especially target encoded ones, wasn't an issue for training, especially when using columns like bedrooms and bathrooms that have a discrete nature and much more limited range when compared to price and target encoded City/State. It also handled the nonlinear nature of our data set better, as is a feature of tree based systems. [1]\n",
        "\n",
        "In a similar fashion, Gradient boosting can also deal better with outliers and nonlinear data relationships. As explained before, the repetitive gradient descent, using weaker iterations each time, allows the model to be better tuned for data with more complex relationships and non-linearity. While the accuracy wasn't as good, it showed better generalization, as the difference between training and testing was smaller. [1]\n",
        "\n",
        "The polynomial approach can capture a lot of the nonlinear features of this dataset, especially when it comes to square footage and the discrete values of bedrooms and bathrooms. However, it’s very sensitive to outliers and data discrepancies, which can explain why it couldn't adjust as well, especially because it doesn't have the corrective nature that comes along with using several regressions layered on top of each other like Random Forest and Gradient Boosting, which can fix these deficiencies. It also only has 1 hyper parameter that was varied, instead of the more complex nature of random forest with its depth, estimators and split parameters that come from tree-based systems, which can model complex feature interactions. To combat this, neural networks can be used in conjunction to this method, with the downside of adding complexity. [2]\n",
        "\n",
        "Lastly, this data set has relations that are mostly nonlinear, like the discrete bedrooms and bathrooms and the volatile nature of square footage, which was reaffirmed in the feature selection portion by looking at correlation and F value. As such, it was to be expected that the linear models like Elastic Net (R1 and R2 combined) and Ridge (R2), which are linear models with regularized mechanisms, would fair the worst. It was also seen that the difference between L1 and L1+L2 is negligible. This means that the L1 penalty isn't providing much corrective properties. This is to be expected, as the feature selection was done in a previous step to the training, as outline in the exercise requirements. The R2 regression also didn't vary as much with the Alpha, which could also be explained by this previous feature selection. [3]\n",
        "\n",
        "\n"
      ],
      "metadata": {
        "id": "_XrXM_3oB789"
      }
    },
    {
      "cell_type": "markdown",
      "source": [
        "## Citations"
      ],
      "metadata": {
        "id": "ToE7gRKsZdrT"
      }
    },
    {
      "cell_type": "markdown",
      "source": [
        "[1] E. K. Sahin, \"Assessing the predictive capability of ensemble tree methods for landslide susceptibility mapping using XGBoost, gradient boosting machine, and random forest,\" SN Applied Sciences, vol. 2, no. 7, p. 1308, Jun. 2020, doi: 10.1007/s42452-020-3060-1.\n",
        "\n",
        "[2] P. Morala, J. A. Cifuentes, R. E. Lillo, and I. Ucar, \"Towards a mathematical framework to inform neural network modelling via polynomial regression,\" Neural Networks, vol. 142, pp. 57-72, Oct. 2021, doi: 10.1016/j.neunet.2021.04.036.\n",
        "\n",
        "[3] R. W. Hoerl, \"Ridge Regression: A Historical Context,\" Technometrics, vol. 62, no. 4, pp. 420-425, 2020, doi: 10.1080/00401706.2020.1742207.\n",
        "\n",
        "[4] T. Chai and R. R. Draxler, \"Root mean square error (RMSE) or mean absolute error (MAE)? – Arguments against avoiding RMSE in the literature,\" Geosci. Model Dev., vol. 7, pp. 1247-1250, 2014, doi: 10.5194/gmd-7-1247-2014.\n",
        "\n",
        "[5] “ElasticNet,” scikit-learn, 2024. https://scikit-learn.org/dev/modules/generated/sklearn.linear_model.ElasticNet.html# (accessed Oct. 22, 2024).\n",
        "\n",
        "[6] CFI Team, “Elastic Net,” Corporate Finance Institute. https://corporatefinanceinstitute.com/resources/data-science/elastic-net/\n",
        "\n",
        "[7[ xgboost developers, “XGBoost Documentation — xgboost 1.5.1 documentation,” xgboost.readthedocs.io, 2022. https://xgboost.readthedocs.io/en/stable/"
      ],
      "metadata": {
        "id": "LmYhihBJZfmU"
      }
    }
  ]
}